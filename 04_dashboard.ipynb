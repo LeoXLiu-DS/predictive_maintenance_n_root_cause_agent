{
 "cells": [
  {
   "cell_type": "markdown",
   "metadata": {
    "application/vnd.databricks.v1+cell": {
     "cellMetadata": {},
     "inputWidgets": {},
     "nuid": "b1a7bffa-08c0-44e6-8ebe-a1965c97eec9",
     "showTitle": false,
     "tableResultSettingsMap": {},
     "title": ""
    }
   },
   "source": [
    "# Predictive Maintenance Dashboard\n",
    "\n",
    "This dashboard visualizes:\n",
    "- ⚠️ Detected anomalies\n",
    "- 💡 Root-cause suggestions via GenAI + RAG\n",
    "- 📊 Metrics per machine & over time\n",
    "\n",
    "Use the filters to drill into specific machines, time windows, or severity levels.\n"
   ]
  },
  {
   "cell_type": "code",
   "execution_count": 0,
   "metadata": {
    "application/vnd.databricks.v1+cell": {
     "cellMetadata": {
      "byteLimit": 2048000,
      "rowLimit": 10000
     },
     "inputWidgets": {},
     "nuid": "518fb7ac-54f3-4da4-8991-9a7e4a33c4e1",
     "showTitle": false,
     "tableResultSettingsMap": {},
     "title": ""
    }
   },
   "outputs": [],
   "source": [
    "# Load Dependencies & Data\n",
    "\n",
    "from pyspark.sql.functions import col\n",
    "import pyspark.sql.functions as F\n",
    "\n",
    "df = spark.table(\"sensor_data_test_scored\")\n",
    "\n",
    "display(df.limit(5))"
   ]
  },
  {
   "cell_type": "code",
   "execution_count": 0,
   "metadata": {
    "application/vnd.databricks.v1+cell": {
     "cellMetadata": {
      "byteLimit": 2048000,
      "rowLimit": 10000
     },
     "inputWidgets": {},
     "nuid": "f707af99-4aed-4a5a-802c-6717b10d2b95",
     "showTitle": false,
     "tableResultSettingsMap": {},
     "title": ""
    }
   },
   "outputs": [],
   "source": [
    "\n",
    "# Machine ID Filter (Widget)\n",
    "dbutils.widgets.dropdown(\"machine_id\", \"All\", [\"All\"] + [str(x) for x in range(1,6)], \"Machine ID\")\n",
    "\n",
    "selected_machine = dbutils.widgets.get(\"machine_id\")\n",
    "if selected_machine == \"All\":\n",
    "    df_filtered = df\n",
    "else:\n",
    "    df_filtered = df.filter(col(\"machine_id\") == int(selected_machine)).filter(col(\"anomaly\") == -1)"
   ]
  },
  {
   "cell_type": "code",
   "execution_count": 0,
   "metadata": {
    "application/vnd.databricks.v1+cell": {
     "cellMetadata": {
      "byteLimit": 2048000,
      "rowLimit": 10000
     },
     "inputWidgets": {},
     "nuid": "e618f5f6-c0b7-4200-9cbf-5cd57a437117",
     "showTitle": false,
     "tableResultSettingsMap": {},
     "title": ""
    }
   },
   "outputs": [],
   "source": [
    "# Time Range Filter (Widget)\n",
    "\n",
    "dbutils.widgets.text(\"start_date\", \"2025-07-13\", \"Start Date (YYYY-MM-DD)\")\n",
    "dbutils.widgets.text(\"end_date\", \"2025-07-14\", \"End Date (YYYY-MM-DD)\")\n",
    "\n",
    "start = dbutils.widgets.get(\"start_date\")\n",
    "end = dbutils.widgets.get(\"end_date\")\n",
    "\n",
    "df_filtered = df_filtered.filter((col(\"timestamp\") >= start) & (col(\"timestamp\") <= end))"
   ]
  },
  {
   "cell_type": "code",
   "execution_count": 0,
   "metadata": {
    "application/vnd.databricks.v1+cell": {
     "cellMetadata": {
      "byteLimit": 2048000,
      "rowLimit": 10000
     },
     "inputWidgets": {},
     "nuid": "bb32caec-026c-4931-b9bd-5b5bbc744665",
     "showTitle": false,
     "tableResultSettingsMap": {},
     "title": ""
    }
   },
   "outputs": [],
   "source": [
    "# Anomaly Table (Interactive)\n",
    "display(df_filtered.orderBy(col(\"timestamp\").desc()))"
   ]
  },
  {
   "cell_type": "code",
   "execution_count": 0,
   "metadata": {
    "application/vnd.databricks.v1+cell": {
     "cellMetadata": {
      "byteLimit": 2048000,
      "rowLimit": 10000
     },
     "inputWidgets": {},
     "nuid": "8c0312ea-a9ad-43f8-817c-3ceb8a0e390b",
     "showTitle": false,
     "tableResultSettingsMap": {},
     "title": ""
    }
   },
   "outputs": [
    {
     "output_type": "display_data",
     "data": {
      "text/plain": [
       "Databricks visualization. Run in Databricks to view."
      ]
     },
     "metadata": {
      "application/vnd.databricks.v1.subcommand+json": {
       "baseErrorDetails": null,
       "bindings": {},
       "collapsed": false,
       "command": "%python\n__backend_agg_display_orig = display\n__backend_agg_dfs = []\ndef __backend_agg_display_new(df):\n    __backend_agg_df_modules = [\"pandas.core.frame\", \"databricks.koalas.frame\", \"pyspark.sql.dataframe\", \"pyspark.pandas.frame\", \"pyspark.sql.connect.dataframe\"]\n    if (type(df).__module__ in __backend_agg_df_modules and type(df).__name__ == 'DataFrame') or isinstance(df, list):\n        __backend_agg_dfs.append(df)\n\ndisplay = __backend_agg_display_new\n\ndef __backend_agg_user_code_fn():\n    import base64\n    exec(base64.standard_b64decode(\"ZGZfdGltZSA9IGRmX2ZpbHRlcmVkLmdyb3VwQnkoRi53aW5kb3coInRpbWVzdGFtcCIsICIxIGhvdXIiKSkuY291bnQoKS53aXRoQ29sdW1uUmVuYW1lZCgiY291bnQiLCAiYW5vbWFseV9jb3VudCIpCmRpc3BsYXkoZGZfdGltZSk=\").decode())\n\ntry:\n    # run user code\n    __backend_agg_user_code_fn()\n\n    #reset display function\n    display = __backend_agg_display_orig\n\n    if len(__backend_agg_dfs) > 0:\n        # create a temp view\n        if type(__backend_agg_dfs[0]).__module__ == \"databricks.koalas.frame\":\n            # koalas dataframe\n            __backend_agg_dfs[0].to_spark().createOrReplaceTempView(\"DatabricksView0b91309\")\n        elif type(__backend_agg_dfs[0]).__module__ == \"pandas.core.frame\" or isinstance(__backend_agg_dfs[0], list):\n            # pandas dataframe\n            spark.createDataFrame(__backend_agg_dfs[0]).createOrReplaceTempView(\"DatabricksView0b91309\")\n        else:\n            __backend_agg_dfs[0].createOrReplaceTempView(\"DatabricksView0b91309\")\n        #run backend agg\n        display(spark.sql(\"\"\"WITH q AS (select * from DatabricksView0b91309) SELECT `window`,SUM(`anomaly_count`) `column_65a38ea4233` FROM q GROUP BY `window`\"\"\"))\n    else:\n        displayHTML(\"dataframe no longer exists. If you're using dataframe.display(), use display(dataframe) instead.\")\n\n\nfinally:\n    spark.sql(\"drop view if exists DatabricksView0b91309\")\n    display = __backend_agg_display_orig\n    del __backend_agg_display_new\n    del __backend_agg_display_orig\n    del __backend_agg_dfs\n    del __backend_agg_user_code_fn\n\n",
       "commandTitle": "Visualization 1",
       "commandType": "auto",
       "commandVersion": 0,
       "commentThread": [],
       "commentsVisible": false,
       "contentSha256Hex": null,
       "customPlotOptions": {
        "redashChart": [
         {
          "key": "type",
          "value": "CHART"
         },
         {
          "key": "options",
          "value": {
           "alignYAxesAtZero": true,
           "coefficient": 1,
           "columnConfigurationMap": {
            "x": {
             "column": "window",
             "id": "column_65a38ea4232"
            },
            "y": [
             {
              "column": "anomaly_count",
              "id": "column_65a38ea4233",
              "transform": "SUM"
             }
            ]
           },
           "dateTimeFormat": "DD/MM/YYYY HH:mm",
           "direction": {
            "type": "counterclockwise"
           },
           "error_y": {
            "type": "data",
            "visible": true
           },
           "globalSeriesType": "line",
           "legend": {
            "traceorder": "normal"
           },
           "missingValuesAsZero": true,
           "numberFormat": "0,0.[00000]",
           "percentFormat": "0[.]00%",
           "series": {
            "error_y": {
             "type": "data",
             "visible": true
            },
            "stacking": null
           },
           "seriesOptions": {
            "column_65a38ea4233": {
             "name": "anomaly_count",
             "type": "line",
             "yAxis": 0
            }
           },
           "showDataLabels": false,
           "sizemode": "diameter",
           "sortX": true,
           "sortY": true,
           "swappedAxes": false,
           "textFormat": "",
           "useAggregationsUi": true,
           "valuesOptions": {},
           "version": 2,
           "xAxis": {
            "labels": {
             "enabled": true
            },
            "type": "-"
           },
           "yAxis": [
            {
             "type": "-"
            },
            {
             "opposite": true,
             "type": "-"
            }
           ]
          }
         }
        ]
       },
       "datasetPreviewNameToCmdIdMap": {},
       "diffDeletes": [],
       "diffInserts": [],
       "displayType": "redashChart",
       "error": null,
       "errorDetails": null,
       "errorSummary": null,
       "errorTraceType": null,
       "finishTime": 0,
       "globalVars": {},
       "guid": "",
       "height": "auto",
       "hideCommandCode": false,
       "hideCommandResult": false,
       "iPythonMetadata": null,
       "inputWidgets": {},
       "isLockedInExamMode": false,
       "latestUser": "a user",
       "latestUserId": null,
       "listResultMetadata": null,
       "metadata": {},
       "nuid": "c3ebb4bd-2b43-41ca-8ff0-a2f0e5a7271e",
       "origId": 0,
       "parentHierarchy": [],
       "pivotAggregation": null,
       "pivotColumns": null,
       "position": 9.0,
       "resultDbfsErrorMessage": null,
       "resultDbfsStatus": "INLINED_IN_TREE",
       "results": null,
       "showCommandTitle": false,
       "startTime": 0,
       "state": "input",
       "streamStates": {},
       "subcommandOptions": {
        "queryPlan": {
         "groups": [
          {
           "column": "window",
           "type": "column"
          }
         ],
         "selects": [
          {
           "column": "window",
           "type": "column"
          },
          {
           "alias": "column_65a38ea4233",
           "args": [
            {
             "column": "anomaly_count",
             "type": "column"
            }
           ],
           "function": "SUM",
           "type": "function"
          }
         ]
        }
       },
       "submitTime": 0,
       "subtype": "tableResultSubCmd.visualization",
       "tableResultIndex": 0,
       "tableResultSettingsMap": {},
       "useConsistentColors": false,
       "version": "CommandV1",
       "width": "auto",
       "workflows": null,
       "xColumns": null,
       "yColumns": null
      }
     },
     "output_type": "display_data"
    }
   ],
   "source": [
    "# Anomalies Over Time (Line Chart)\n",
    "\n",
    "df_time = df_filtered.groupBy(F.window(\"timestamp\", \"1 hour\")).count().withColumnRenamed(\"count\", \"anomaly_count\")\n",
    "display(df_time)"
   ]
  },
  {
   "cell_type": "code",
   "execution_count": 0,
   "metadata": {
    "application/vnd.databricks.v1+cell": {
     "cellMetadata": {
      "byteLimit": 2048000,
      "rowLimit": 10000
     },
     "inputWidgets": {},
     "nuid": "ddd749a5-8a55-481e-8856-8167500b507c",
     "showTitle": false,
     "tableResultSettingsMap": {},
     "title": ""
    }
   },
   "outputs": [
    {
     "output_type": "display_data",
     "data": {
      "text/plain": [
       "Databricks visualization. Run in Databricks to view."
      ]
     },
     "metadata": {
      "application/vnd.databricks.v1.subcommand+json": {
       "baseErrorDetails": null,
       "bindings": {},
       "collapsed": false,
       "command": "%python\n__backend_agg_display_orig = display\n__backend_agg_dfs = []\ndef __backend_agg_display_new(df):\n    __backend_agg_df_modules = [\"pandas.core.frame\", \"databricks.koalas.frame\", \"pyspark.sql.dataframe\", \"pyspark.pandas.frame\", \"pyspark.sql.connect.dataframe\"]\n    if (type(df).__module__ in __backend_agg_df_modules and type(df).__name__ == 'DataFrame') or isinstance(df, list):\n        __backend_agg_dfs.append(df)\n\ndisplay = __backend_agg_display_new\n\ndef __backend_agg_user_code_fn():\n    import base64\n    exec(base64.standard_b64decode(\"ZGZfbWFjaGluZSA9IGRmX2ZpbHRlcmVkLmdyb3VwQnkoIm1hY2hpbmVfaWQiKS5jb3VudCgpLndpdGhDb2x1bW5SZW5hbWVkKCJjb3VudCIsICJhbm9tYWx5X2NvdW50IikKZGlzcGxheShkZl9tYWNoaW5lKQ==\").decode())\n\ntry:\n    # run user code\n    __backend_agg_user_code_fn()\n\n    #reset display function\n    display = __backend_agg_display_orig\n\n    if len(__backend_agg_dfs) > 0:\n        # create a temp view\n        if type(__backend_agg_dfs[0]).__module__ == \"databricks.koalas.frame\":\n            # koalas dataframe\n            __backend_agg_dfs[0].to_spark().createOrReplaceTempView(\"DatabricksView0384201\")\n        elif type(__backend_agg_dfs[0]).__module__ == \"pandas.core.frame\" or isinstance(__backend_agg_dfs[0], list):\n            # pandas dataframe\n            spark.createDataFrame(__backend_agg_dfs[0]).createOrReplaceTempView(\"DatabricksView0384201\")\n        else:\n            __backend_agg_dfs[0].createOrReplaceTempView(\"DatabricksView0384201\")\n        #run backend agg\n        display(spark.sql(\"\"\"WITH q AS (select * from DatabricksView0384201) SELECT `machine_id`,SUM(`anomaly_count`) `column_65a38ea4236` FROM q GROUP BY `machine_id`\"\"\"))\n    else:\n        displayHTML(\"dataframe no longer exists. If you're using dataframe.display(), use display(dataframe) instead.\")\n\n\nfinally:\n    spark.sql(\"drop view if exists DatabricksView0384201\")\n    display = __backend_agg_display_orig\n    del __backend_agg_display_new\n    del __backend_agg_display_orig\n    del __backend_agg_dfs\n    del __backend_agg_user_code_fn\n\n",
       "commandTitle": "Visualization 1",
       "commandType": "auto",
       "commandVersion": 0,
       "commentThread": [],
       "commentsVisible": false,
       "contentSha256Hex": null,
       "customPlotOptions": {
        "redashChart": [
         {
          "key": "type",
          "value": "CHART"
         },
         {
          "key": "options",
          "value": {
           "alignYAxesAtZero": true,
           "coefficient": 1,
           "columnConfigurationMap": {
            "x": {
             "column": "machine_id",
             "id": "column_65a38ea4235"
            },
            "y": [
             {
              "column": "anomaly_count",
              "id": "column_65a38ea4236",
              "transform": "SUM"
             }
            ]
           },
           "dateTimeFormat": "DD/MM/YYYY HH:mm",
           "direction": {
            "type": "counterclockwise"
           },
           "error_y": {
            "type": "data",
            "visible": true
           },
           "globalSeriesType": "column",
           "isAggregationOn": true,
           "legend": {
            "traceorder": "normal"
           },
           "missingValuesAsZero": true,
           "numberFormat": "0,0.[00000]",
           "percentFormat": "0[.]00%",
           "series": {
            "error_y": {
             "type": "data",
             "visible": true
            },
            "stacking": null
           },
           "seriesOptions": {
            "column_65a38ea4236": {
             "name": "anomaly_count",
             "type": "column",
             "yAxis": 0
            }
           },
           "showDataLabels": false,
           "sizemode": "diameter",
           "sortX": true,
           "sortY": true,
           "swappedAxes": false,
           "textFormat": "",
           "useAggregationsUi": true,
           "valuesOptions": {},
           "version": 2,
           "xAxis": {
            "labels": {
             "enabled": true
            },
            "type": "-"
           },
           "yAxis": [
            {
             "type": "-"
            },
            {
             "opposite": true,
             "type": "-"
            }
           ]
          }
         }
        ]
       },
       "datasetPreviewNameToCmdIdMap": {},
       "diffDeletes": [],
       "diffInserts": [],
       "displayType": "redashChart",
       "error": null,
       "errorDetails": null,
       "errorSummary": null,
       "errorTraceType": null,
       "finishTime": 0,
       "globalVars": {},
       "guid": "",
       "height": "auto",
       "hideCommandCode": false,
       "hideCommandResult": false,
       "iPythonMetadata": null,
       "inputWidgets": {},
       "isLockedInExamMode": false,
       "latestUser": "a user",
       "latestUserId": null,
       "listResultMetadata": null,
       "metadata": {},
       "nuid": "84185093-4c9f-49a1-9956-e7756c7fb027",
       "origId": 0,
       "parentHierarchy": [],
       "pivotAggregation": null,
       "pivotColumns": null,
       "position": 11.0,
       "resultDbfsErrorMessage": null,
       "resultDbfsStatus": "INLINED_IN_TREE",
       "results": null,
       "showCommandTitle": false,
       "startTime": 0,
       "state": "input",
       "streamStates": {},
       "subcommandOptions": {
        "queryPlan": {
         "groups": [
          {
           "column": "machine_id",
           "type": "column"
          }
         ],
         "selects": [
          {
           "column": "machine_id",
           "type": "column"
          },
          {
           "alias": "column_65a38ea4236",
           "args": [
            {
             "column": "anomaly_count",
             "type": "column"
            }
           ],
           "function": "SUM",
           "type": "function"
          }
         ]
        }
       },
       "submitTime": 0,
       "subtype": "tableResultSubCmd.visualization",
       "tableResultIndex": 0,
       "tableResultSettingsMap": {},
       "useConsistentColors": false,
       "version": "CommandV1",
       "width": "auto",
       "workflows": null,
       "xColumns": null,
       "yColumns": null
      }
     },
     "output_type": "display_data"
    }
   ],
   "source": [
    "# Anomalies per Machine (Bar Chart)\n",
    "\n",
    "df_machine = df_filtered.groupBy(\"machine_id\").count().withColumnRenamed(\"count\", \"anomaly_count\")\n",
    "display(df_machine)"
   ]
  }
 ],
 "metadata": {
  "application/vnd.databricks.v1+notebook": {
   "computePreferences": null,
   "dashboards": [
    {
     "elements": [
      {
       "dashboardResultIndex": 0,
       "elementNUID": "bb32caec-026c-4931-b9bd-5b5bbc744665",
       "elementType": "command",
       "guid": "15056174-0725-4963-98da-ce731f59539e",
       "options": null,
       "position": {
        "height": 6,
        "width": 12,
        "x": 0,
        "y": 0,
        "z": null
       },
       "resultIndex": null
      },
      {
       "dashboardResultIndex": 0,
       "elementNUID": "8c0312ea-a9ad-43f8-817c-3ceb8a0e390b",
       "elementType": "command",
       "guid": "47df9a44-fa23-4625-8546-66a33543cc8f",
       "options": null,
       "position": {
        "height": 6,
        "width": 12,
        "x": 12,
        "y": 6,
        "z": null
       },
       "resultIndex": null
      },
      {
       "dashboardResultIndex": null,
       "elementNUID": "84185093-4c9f-49a1-9956-e7756c7fb027",
       "elementType": "command",
       "guid": "736d2d12-a83f-4a6b-a18b-628342ab6a85",
       "options": null,
       "position": {
        "height": 6,
        "width": 12,
        "x": 0,
        "y": 6,
        "z": null
       },
       "resultIndex": null
      },
      {
       "dashboardResultIndex": 0,
       "elementNUID": "518fb7ac-54f3-4da4-8991-9a7e4a33c4e1",
       "elementType": "command",
       "guid": "8d62c5a1-9831-4954-a1b1-12f4fb50b7c0",
       "options": null,
       "position": {
        "height": 6,
        "width": 12,
        "x": 0,
        "y": 12,
        "z": null
       },
       "resultIndex": null
      },
      {
       "dashboardResultIndex": null,
       "elementNUID": "c3ebb4bd-2b43-41ca-8ff0-a2f0e5a7271e",
       "elementType": "command",
       "guid": "98430662-254f-4599-85a3-efb24b0aa8ae",
       "options": null,
       "position": {
        "height": 6,
        "width": 12,
        "x": 0,
        "y": 24,
        "z": null
       },
       "resultIndex": null
      },
      {
       "dashboardResultIndex": 0,
       "elementNUID": "ddd749a5-8a55-481e-8856-8167500b507c",
       "elementType": "command",
       "guid": "a86f53bb-4e31-49f8-b056-c92832f8d6b3",
       "options": null,
       "position": {
        "height": 6,
        "width": 12,
        "x": 0,
        "y": 30,
        "z": null
       },
       "resultIndex": null
      },
      {
       "dashboardResultIndex": null,
       "elementNUID": "b1a7bffa-08c0-44e6-8ebe-a1965c97eec9",
       "elementType": "command",
       "guid": "ebda8a90-a305-4e64-bc0b-4e1bea0218c9",
       "options": null,
       "position": {
        "height": 6,
        "width": 12,
        "x": 0,
        "y": 42,
        "z": null
       },
       "resultIndex": null
      }
     ],
     "globalVars": {},
     "guid": "",
     "layoutOption": {
      "grid": true,
      "stack": true
     },
     "nuid": "cff02bf6-cf8a-4e57-bb66-b29a313868ca",
     "origId": 6985100557976223,
     "title": "Untitled",
     "version": "DashboardViewV1",
     "width": 1024
    }
   ],
   "environmentMetadata": {
    "base_environment": "",
    "environment_version": "2"
   },
   "inputWidgetPreferences": null,
   "language": "python",
   "notebookMetadata": {
    "pythonIndentUnit": 4
   },
   "notebookName": "04_dashboard",
   "widgets": {
    "end_date": {
     "currentValue": "2025-07-14",
     "nuid": "56064132-7eb1-4da0-980c-cd7488a57336",
     "typedWidgetInfo": {
      "autoCreated": false,
      "defaultValue": "2025-07-14",
      "label": "End Date (YYYY-MM-DD)",
      "name": "end_date",
      "options": {
       "widgetDisplayType": "Text",
       "validationRegex": null
      },
      "parameterDataType": "String"
     },
     "widgetInfo": {
      "widgetType": "text",
      "defaultValue": "2025-07-14",
      "label": "End Date (YYYY-MM-DD)",
      "name": "end_date",
      "options": {
       "widgetType": "text",
       "autoCreated": null,
       "validationRegex": null
      }
     }
    },
    "machine_id": {
     "currentValue": "All",
     "nuid": "e880ea25-3247-4d95-b9b3-5c48c36f7859",
     "typedWidgetInfo": {
      "autoCreated": false,
      "defaultValue": "All",
      "label": "Machine ID",
      "name": "machine_id",
      "options": {
       "widgetDisplayType": "Dropdown",
       "choices": [
        "All",
        "1",
        "2",
        "3",
        "4",
        "5"
       ],
       "fixedDomain": true,
       "multiselect": false
      },
      "parameterDataType": "String"
     },
     "widgetInfo": {
      "widgetType": "dropdown",
      "defaultValue": "All",
      "label": "Machine ID",
      "name": "machine_id",
      "options": {
       "widgetType": "dropdown",
       "autoCreated": null,
       "choices": [
        "All",
        "1",
        "2",
        "3",
        "4",
        "5"
       ]
      }
     }
    },
    "start_date": {
     "currentValue": "2025-07-13",
     "nuid": "c9e98ef5-9978-4fd2-a2f7-118ab6f437e8",
     "typedWidgetInfo": {
      "autoCreated": false,
      "defaultValue": "2025-07-13",
      "label": "Start Date (YYYY-MM-DD)",
      "name": "start_date",
      "options": {
       "widgetDisplayType": "Text",
       "validationRegex": null
      },
      "parameterDataType": "String"
     },
     "widgetInfo": {
      "widgetType": "text",
      "defaultValue": "2025-07-13",
      "label": "Start Date (YYYY-MM-DD)",
      "name": "start_date",
      "options": {
       "widgetType": "text",
       "autoCreated": null,
       "validationRegex": null
      }
     }
    }
   }
  },
  "language_info": {
   "name": "python"
  }
 },
 "nbformat": 4,
 "nbformat_minor": 0
}
