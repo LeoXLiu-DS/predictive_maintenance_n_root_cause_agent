{
 "cells": [
  {
   "cell_type": "code",
   "execution_count": 0,
   "metadata": {
    "application/vnd.databricks.v1+cell": {
     "cellMetadata": {
      "byteLimit": 2048000,
      "rowLimit": 10000
     },
     "inputWidgets": {},
     "nuid": "43772eb5-a365-4411-afec-9b59dbc11518",
     "showTitle": false,
     "tableResultSettingsMap": {},
     "title": ""
    }
   },
   "outputs": [],
   "source": [
    "import pandas as pd\n",
    "import numpy as np\n",
    "from sklearn.ensemble import IsolationForest\n",
    "from sklearn.model_selection import ParameterGrid\n",
    "import mlflow\n",
    "import mlflow.sklearn\n",
    "import os"
   ]
  },
  {
   "cell_type": "markdown",
   "metadata": {
    "application/vnd.databricks.v1+cell": {
     "cellMetadata": {},
     "inputWidgets": {},
     "nuid": "dfa9c7d5-d689-4459-b87b-b9d68bcd1d03",
     "showTitle": false,
     "tableResultSettingsMap": {},
     "title": ""
    }
   },
   "source": [
    "## Load training and scoring Data"
   ]
  },
  {
   "cell_type": "code",
   "execution_count": 0,
   "metadata": {
    "application/vnd.databricks.v1+cell": {
     "cellMetadata": {
      "byteLimit": 2048000,
      "rowLimit": 10000
     },
     "inputWidgets": {},
     "nuid": "417c4900-76da-418d-ac50-9a895e0d3350",
     "showTitle": false,
     "tableResultSettingsMap": {},
     "title": ""
    }
   },
   "outputs": [],
   "source": [
    "# Load normal data for training\n",
    "df_train = spark.table(\"sensor_data_normal\").select(\"temperature\", \"vibration\", \"pressure\").toPandas()\n",
    "X_train = df_train.values"
   ]
  },
  {
   "cell_type": "markdown",
   "metadata": {
    "application/vnd.databricks.v1+cell": {
     "cellMetadata": {},
     "inputWidgets": {},
     "nuid": "9eec945c-9496-4c48-9039-5c038948d885",
     "showTitle": false,
     "tableResultSettingsMap": {},
     "title": ""
    }
   },
   "source": [
    "## Train the anomaly detection model"
   ]
  },
  {
   "cell_type": "code",
   "execution_count": 0,
   "metadata": {
    "application/vnd.databricks.v1+cell": {
     "cellMetadata": {
      "byteLimit": 2048000,
      "rowLimit": 10000
     },
     "inputWidgets": {},
     "nuid": "52e06279-3f7c-4125-b571-c8e9b3f2ad69",
     "showTitle": false,
     "tableResultSettingsMap": {},
     "title": ""
    }
   },
   "outputs": [],
   "source": [
    "# Define Search Space for Tuning\n",
    "\n",
    "param_grid = {\n",
    "    \"n_estimators\": [50, 100],\n",
    "    \"contamination\": [1e-4],\n",
    "    \"max_samples\": [\"auto\"],\n",
    "    \"random_state\": [42]\n",
    "}\n",
    "\n",
    "grid = list(ParameterGrid(param_grid))"
   ]
  },
  {
   "cell_type": "code",
   "execution_count": 0,
   "metadata": {
    "application/vnd.databricks.v1+cell": {
     "cellMetadata": {
      "byteLimit": 2048000,
      "rowLimit": 10000
     },
     "inputWidgets": {},
     "nuid": "f359718f-caa1-4f8f-bf11-d3bf480a2aa8",
     "showTitle": false,
     "tableResultSettingsMap": {},
     "title": ""
    }
   },
   "outputs": [],
   "source": [
    "\n",
    "mlflow.set_registry_uri(\"databricks-uc\") \n",
    "\n",
    "mlflow.set_experiment(\"/Users/xuanang.leo.liu@gmail.com/predictive_maintenance\")\n",
    "\n",
    "best_params = None\n",
    "best_score = -np.inf\n",
    "\n",
    "for params in grid:\n",
    "    with mlflow.start_run() as run:\n",
    "        # Train model\n",
    "        model = IsolationForest(**params)\n",
    "        model.fit(X_train)\n",
    "\n",
    "        # Score on scoring dataset\n",
    "        scores = model.decision_function(X_train)\n",
    "        mean_score = float(scores.mean())\n",
    "\n",
    "        # Log to MLflow\n",
    "        mlflow.log_params(params)\n",
    "        mlflow.log_metric(\"mean_anomaly_score\", mean_score)\n",
    "        mlflow.sklearn.log_model(sk_model=model, artifact_path=\"model\", input_example=X_train[:5])\n",
    "\n",
    "        # Track best model\n",
    "        if mean_score > best_score:\n",
    "            best_score = mean_score\n",
    "            best_model = model\n",
    "            best_params = params\n",
    "            best_run_id = run.info.run_id"
   ]
  },
  {
   "cell_type": "markdown",
   "metadata": {
    "application/vnd.databricks.v1+cell": {
     "cellMetadata": {},
     "inputWidgets": {},
     "nuid": "7acb42a7-6d57-4779-bec3-5371e89e8ef0",
     "showTitle": false,
     "tableResultSettingsMap": {},
     "title": ""
    }
   },
   "source": [
    "## Register the best model"
   ]
  },
  {
   "cell_type": "code",
   "execution_count": 0,
   "metadata": {
    "application/vnd.databricks.v1+cell": {
     "cellMetadata": {
      "byteLimit": 2048000,
      "rowLimit": 10000
     },
     "inputWidgets": {},
     "nuid": "a135dce2-b7ee-4bed-9cd4-db277b870b2a",
     "showTitle": false,
     "tableResultSettingsMap": {},
     "title": ""
    }
   },
   "outputs": [],
   "source": [
    "# model_uri = f\"runs:/{best_run_id}/model\"\n",
    "# registered_name = \"genai_demo.isolation_forest_pm_model\"\n",
    "\n",
    "# mlflow.register_model(model_uri=model_uri, name=registered_name)"
   ]
  },
  {
   "cell_type": "markdown",
   "metadata": {
    "application/vnd.databricks.v1+cell": {
     "cellMetadata": {},
     "inputWidgets": {},
     "nuid": "d5360e33-73b7-40d5-90c9-19e3949cfaac",
     "showTitle": false,
     "tableResultSettingsMap": {},
     "title": ""
    }
   },
   "source": [
    "## Predict anomalies using test data"
   ]
  },
  {
   "cell_type": "code",
   "execution_count": 0,
   "metadata": {
    "application/vnd.databricks.v1+cell": {
     "cellMetadata": {
      "byteLimit": 2048000,
      "rowLimit": 10000
     },
     "inputWidgets": {},
     "nuid": "5c63a044-c7b6-45d3-863d-a9f7290b0316",
     "showTitle": false,
     "tableResultSettingsMap": {},
     "title": ""
    }
   },
   "outputs": [],
   "source": [
    "import mlflow\n",
    "\n",
    "# model_uri = 'runs:/175c622832c84abf959a2b2745065b1f/model'\n",
    "# model = mlflow.sklearn.load_model(model_uri)\n",
    "\n",
    "model = best_model"
   ]
  },
  {
   "cell_type": "code",
   "execution_count": 0,
   "metadata": {
    "application/vnd.databricks.v1+cell": {
     "cellMetadata": {
      "byteLimit": 2048000,
      "rowLimit": 10000
     },
     "inputWidgets": {},
     "nuid": "5b028bb9-f3e5-4b7e-acd4-121ab8514fd9",
     "showTitle": false,
     "tableResultSettingsMap": {},
     "title": ""
    }
   },
   "outputs": [],
   "source": [
    "df_test_spark = spark.table(\"sensor_data_test\")\n",
    "df_test = df_test_spark.toPandas()\n",
    "pred = model.predict(df_test[[\"temperature\", \"vibration\", \"pressure\"]].values)\n",
    "df_test[\"pred\"] = pred"
   ]
  },
  {
   "cell_type": "code",
   "execution_count": 0,
   "metadata": {
    "application/vnd.databricks.v1+cell": {
     "cellMetadata": {
      "byteLimit": 2048000,
      "rowLimit": 10000
     },
     "inputWidgets": {},
     "nuid": "5671a32d-5072-468c-b398-12cc72a52d71",
     "showTitle": false,
     "tableResultSettingsMap": {},
     "title": ""
    }
   },
   "outputs": [],
   "source": [
    "len(df_test[df_test['inliner']==df_test['pred']])/len(df_test)"
   ]
  },
  {
   "cell_type": "code",
   "execution_count": 0,
   "metadata": {
    "application/vnd.databricks.v1+cell": {
     "cellMetadata": {
      "byteLimit": 2048000,
      "rowLimit": 10000
     },
     "inputWidgets": {},
     "nuid": "6a81cb37-17b2-48bf-9f78-a7a5cf3e744a",
     "showTitle": false,
     "tableResultSettingsMap": {},
     "title": ""
    }
   },
   "outputs": [],
   "source": [
    "len(df_test[df_test['pred']==1])/len(df_test)"
   ]
  },
  {
   "cell_type": "code",
   "execution_count": 0,
   "metadata": {
    "application/vnd.databricks.v1+cell": {
     "cellMetadata": {
      "byteLimit": 2048000,
      "rowLimit": 10000
     },
     "inputWidgets": {},
     "nuid": "1f289b20-2f9b-43fb-bc3a-ce56c92fce57",
     "showTitle": false,
     "tableResultSettingsMap": {},
     "title": ""
    }
   },
   "outputs": [],
   "source": [
    "spark.createDataFrame(df_test).write.mode(\"overwrite\").format(\"delta\").option(\"mergeSchema\", \"true\").saveAsTable(\"sensor_data_test_scored\")"
   ]
  },
  {
   "cell_type": "markdown",
   "metadata": {
    "application/vnd.databricks.v1+cell": {
     "cellMetadata": {},
     "inputWidgets": {},
     "nuid": "480db040-0b34-49d6-8777-94a39b54173d",
     "showTitle": false,
     "tableResultSettingsMap": {},
     "title": ""
    }
   },
   "source": []
  }
 ],
 "metadata": {
  "application/vnd.databricks.v1+notebook": {
   "computePreferences": null,
   "dashboards": [],
   "environmentMetadata": {
    "base_environment": "",
    "environment_version": "2"
   },
   "inputWidgetPreferences": null,
   "language": "python",
   "notebookMetadata": {
    "pythonIndentUnit": 4
   },
   "notebookName": "02_anomaly_detection",
   "widgets": {}
  },
  "language_info": {
   "name": "python"
  }
 },
 "nbformat": 4,
 "nbformat_minor": 0
}
