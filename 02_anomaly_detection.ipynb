{
 "cells": [
  {
   "cell_type": "code",
   "execution_count": 0,
   "metadata": {
    "application/vnd.databricks.v1+cell": {
     "cellMetadata": {
      "byteLimit": 2048000,
      "rowLimit": 10000
     },
     "inputWidgets": {},
     "nuid": "9e3530bf-c0af-40f0-b0fd-533fbd5ea541",
     "showTitle": false,
     "tableResultSettingsMap": {},
     "title": ""
    }
   },
   "outputs": [],
   "source": [
    "%pip install --upgrade \"mlflow-skinny[databricks]\"\n",
    "dbutils.library.restartPython()"
   ]
  },
  {
   "cell_type": "code",
   "execution_count": 0,
   "metadata": {
    "application/vnd.databricks.v1+cell": {
     "cellMetadata": {
      "byteLimit": 2048000,
      "rowLimit": 10000
     },
     "inputWidgets": {},
     "nuid": "43772eb5-a365-4411-afec-9b59dbc11518",
     "showTitle": false,
     "tableResultSettingsMap": {},
     "title": ""
    }
   },
   "outputs": [],
   "source": [
    "import pandas as pd\n",
    "import numpy as np\n",
    "from sklearn.ensemble import IsolationForest\n",
    "from sklearn.model_selection import ParameterGrid\n",
    "import mlflow\n",
    "import mlflow.sklearn\n",
    "import os"
   ]
  },
  {
   "cell_type": "code",
   "execution_count": 0,
   "metadata": {
    "application/vnd.databricks.v1+cell": {
     "cellMetadata": {
      "byteLimit": 2048000,
      "rowLimit": 10000
     },
     "inputWidgets": {},
     "nuid": "60c906cb-9c26-448b-884c-95625520bb5f",
     "showTitle": false,
     "tableResultSettingsMap": {},
     "title": ""
    }
   },
   "outputs": [],
   "source": [
    "os.environ[\"MLFLOW_USE_DATABRICKS_SDK_MODEL_ARTIFACTS_REPO_FOR_UC\"] = \"True\"\n",
    "mlflow.set_registry_uri(\"databricks-uc\")"
   ]
  },
  {
   "cell_type": "code",
   "execution_count": 0,
   "metadata": {
    "application/vnd.databricks.v1+cell": {
     "cellMetadata": {
      "byteLimit": 2048000,
      "rowLimit": 10000
     },
     "inputWidgets": {},
     "nuid": "099281ce-6adc-4775-a3a2-68a1e4a05022",
     "showTitle": false,
     "tableResultSettingsMap": {},
     "title": ""
    }
   },
   "outputs": [],
   "source": [
    "catalog = \"workspace\"\n",
    "schema = \"genai_demo\""
   ]
  },
  {
   "cell_type": "markdown",
   "metadata": {
    "application/vnd.databricks.v1+cell": {
     "cellMetadata": {},
     "inputWidgets": {},
     "nuid": "1f343fe6-af50-472f-ab11-4ef2b28d2f29",
     "showTitle": false,
     "tableResultSettingsMap": {},
     "title": ""
    }
   },
   "source": [
    "## Train the anomaly detection model"
   ]
  },
  {
   "cell_type": "code",
   "execution_count": 0,
   "metadata": {
    "application/vnd.databricks.v1+cell": {
     "cellMetadata": {
      "byteLimit": 2048000,
      "rowLimit": 10000
     },
     "inputWidgets": {},
     "nuid": "417c4900-76da-418d-ac50-9a895e0d3350",
     "showTitle": false,
     "tableResultSettingsMap": {},
     "title": ""
    }
   },
   "outputs": [],
   "source": [
    "# Load normal data for training\n",
    "table_name = \"sensor_data_normal\"\n",
    "df_train = spark.table(f\"{catalog}.{schema}.{table_name}\").select(\"temperature\", \"vibration\", \"pressure\").toPandas()\n",
    "X_train = df_train.values"
   ]
  },
  {
   "cell_type": "code",
   "execution_count": 0,
   "metadata": {
    "application/vnd.databricks.v1+cell": {
     "cellMetadata": {
      "byteLimit": 2048000,
      "rowLimit": 10000
     },
     "inputWidgets": {},
     "nuid": "52e06279-3f7c-4125-b571-c8e9b3f2ad69",
     "showTitle": false,
     "tableResultSettingsMap": {},
     "title": ""
    }
   },
   "outputs": [],
   "source": [
    "# Define Search Space for Tuning\n",
    "\n",
    "param_grid = {\n",
    "    \"n_estimators\": [50, 100],\n",
    "    \"contamination\": [1e-4],\n",
    "    \"max_samples\": [\"auto\"],\n",
    "    \"random_state\": [42]\n",
    "}\n",
    "\n",
    "grid = list(ParameterGrid(param_grid))"
   ]
  },
  {
   "cell_type": "code",
   "execution_count": 0,
   "metadata": {
    "application/vnd.databricks.v1+cell": {
     "cellMetadata": {
      "byteLimit": 2048000,
      "rowLimit": 10000
     },
     "inputWidgets": {},
     "nuid": "f359718f-caa1-4f8f-bf11-d3bf480a2aa8",
     "showTitle": false,
     "tableResultSettingsMap": {},
     "title": ""
    }
   },
   "outputs": [],
   "source": [
    "\n",
    "# mlflow.set_experiment(\"/Users/xuanang.leo.liu@gmail.com/predictive_maintenance\")\n",
    "\n",
    "best_params = None\n",
    "best_score = -np.inf\n",
    "\n",
    "for params in grid:\n",
    "    with mlflow.start_run() as run:\n",
    "        # Train model\n",
    "        model = IsolationForest(**params)\n",
    "        model.fit(X_train)\n",
    "\n",
    "        # Score on scoring dataset\n",
    "        scores = model.decision_function(X_train)\n",
    "        mean_score = float(scores.mean())\n",
    "\n",
    "        # Log to MLflow\n",
    "        mlflow.log_params(params)\n",
    "        mlflow.log_metric(\"mean_anomaly_score\", mean_score)\n",
    "        mlflow.sklearn.log_model(sk_model=model, name=\"model\", input_example=X_train[:5])\n",
    "\n",
    "        # Track best model\n",
    "        if mean_score > best_score:\n",
    "            best_score = mean_score\n",
    "            best_model = model\n",
    "            best_params = params\n",
    "            best_run_id = run.info.run_id"
   ]
  },
  {
   "cell_type": "markdown",
   "metadata": {
    "application/vnd.databricks.v1+cell": {
     "cellMetadata": {},
     "inputWidgets": {},
     "nuid": "7acb42a7-6d57-4779-bec3-5371e89e8ef0",
     "showTitle": false,
     "tableResultSettingsMap": {},
     "title": ""
    }
   },
   "source": [
    "## Register the best model"
   ]
  },
  {
   "cell_type": "code",
   "execution_count": 0,
   "metadata": {
    "application/vnd.databricks.v1+cell": {
     "cellMetadata": {
      "byteLimit": 2048000,
      "implicitDf": true,
      "rowLimit": 10000
     },
     "inputWidgets": {},
     "nuid": "24030e59-3652-47dd-9e94-1554dbd3163d",
     "showTitle": false,
     "tableResultSettingsMap": {},
     "title": ""
    }
   },
   "outputs": [],
   "source": [
    "%sql\n",
    "GRANT CREATE MODEL ON SCHEMA workspace.genai_demo TO `xuanang.leo.liu@gmail.com`"
   ]
  },
  {
   "cell_type": "code",
   "execution_count": 0,
   "metadata": {
    "application/vnd.databricks.v1+cell": {
     "cellMetadata": {
      "byteLimit": 2048000,
      "rowLimit": 10000
     },
     "inputWidgets": {},
     "nuid": "a135dce2-b7ee-4bed-9cd4-db277b870b2a",
     "showTitle": false,
     "tableResultSettingsMap": {},
     "title": ""
    }
   },
   "outputs": [],
   "source": [
    "model_uri = f\"runs:/{best_run_id}/model\"\n",
    "registered_name = \"isolation_forest_pm_model\"\n",
    "\n",
    "mlflow.register_model(model_uri=model_uri, name=f\"{catalog}.{schema}.{registered_name}\")"
   ]
  },
  {
   "cell_type": "markdown",
   "metadata": {
    "application/vnd.databricks.v1+cell": {
     "cellMetadata": {},
     "inputWidgets": {},
     "nuid": "d5360e33-73b7-40d5-90c9-19e3949cfaac",
     "showTitle": false,
     "tableResultSettingsMap": {},
     "title": ""
    }
   },
   "source": [
    "## Predict anomalies using test data"
   ]
  },
  {
   "cell_type": "code",
   "execution_count": 0,
   "metadata": {
    "application/vnd.databricks.v1+cell": {
     "cellMetadata": {
      "byteLimit": 2048000,
      "rowLimit": 10000
     },
     "inputWidgets": {},
     "nuid": "5c63a044-c7b6-45d3-863d-a9f7290b0316",
     "showTitle": false,
     "tableResultSettingsMap": {},
     "title": ""
    }
   },
   "outputs": [],
   "source": [
    "import mlflow\n",
    "\n",
    "catalog = \"workspace\"\n",
    "schema = \"genai_demo\"\n",
    "model_name = \"isolation_forest_pm_model\"\n",
    "model_version = 4\n",
    "model = mlflow.sklearn.load_model(f\"models:/{catalog}.{schema}.{model_name}/{model_version}\")\n",
    "\n",
    "# model = best_model"
   ]
  },
  {
   "cell_type": "code",
   "execution_count": 0,
   "metadata": {
    "application/vnd.databricks.v1+cell": {
     "cellMetadata": {
      "byteLimit": 2048000,
      "rowLimit": 10000
     },
     "inputWidgets": {},
     "nuid": "5b028bb9-f3e5-4b7e-acd4-121ab8514fd9",
     "showTitle": false,
     "tableResultSettingsMap": {},
     "title": ""
    }
   },
   "outputs": [],
   "source": [
    "table_name = \"sensor_data_test\"\n",
    "df_test_spark = spark.table(f\"{catalog}.{schema}.{table_name}\")\n",
    "df_test = df_test_spark.toPandas()\n",
    "pred = model.predict(df_test[[\"temperature\", \"vibration\", \"pressure\"]].values)\n",
    "df_test[\"pred\"] = pred"
   ]
  },
  {
   "cell_type": "code",
   "execution_count": 0,
   "metadata": {
    "application/vnd.databricks.v1+cell": {
     "cellMetadata": {
      "byteLimit": 2048000,
      "rowLimit": 10000
     },
     "inputWidgets": {},
     "nuid": "5671a32d-5072-468c-b398-12cc72a52d71",
     "showTitle": false,
     "tableResultSettingsMap": {},
     "title": ""
    }
   },
   "outputs": [],
   "source": [
    "len(df_test[df_test['inliner']==df_test['pred']])/len(df_test)"
   ]
  },
  {
   "cell_type": "code",
   "execution_count": 0,
   "metadata": {
    "application/vnd.databricks.v1+cell": {
     "cellMetadata": {
      "byteLimit": 2048000,
      "rowLimit": 10000
     },
     "inputWidgets": {},
     "nuid": "1f289b20-2f9b-43fb-bc3a-ce56c92fce57",
     "showTitle": false,
     "tableResultSettingsMap": {},
     "title": ""
    }
   },
   "outputs": [],
   "source": [
    "# save the test data with prediction\n",
    "table_name = \"sensor_data_test_scored\"\n",
    "spark.createDataFrame(df_test).write\\\n",
    "    .mode(\"overwrite\").format(\"delta\")\\\n",
    "    .option(\"mergeSchema\", \"true\")\\\n",
    "    .saveAsTable(f\"{catalog}.{schema}.{table_name}\")"
   ]
  },
  {
   "cell_type": "markdown",
   "metadata": {
    "application/vnd.databricks.v1+cell": {
     "cellMetadata": {},
     "inputWidgets": {},
     "nuid": "480db040-0b34-49d6-8777-94a39b54173d",
     "showTitle": false,
     "tableResultSettingsMap": {},
     "title": ""
    }
   },
   "source": []
  }
 ],
 "metadata": {
  "application/vnd.databricks.v1+notebook": {
   "computePreferences": null,
   "dashboards": [],
   "environmentMetadata": {
    "base_environment": "",
    "environment_version": "2"
   },
   "inputWidgetPreferences": null,
   "language": "python",
   "notebookMetadata": {
    "mostRecentlyExecutedCommandWithImplicitDF": {
     "commandId": 8686846369301269,
     "dataframes": [
      "_sqldf"
     ]
    },
    "pythonIndentUnit": 4
   },
   "notebookName": "02_anomaly_detection",
   "widgets": {}
  },
  "language_info": {
   "name": "python"
  }
 },
 "nbformat": 4,
 "nbformat_minor": 0
}
