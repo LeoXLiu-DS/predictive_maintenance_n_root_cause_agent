{
 "cells": [
  {
   "cell_type": "markdown",
   "metadata": {
    "application/vnd.databricks.v1+cell": {
     "cellMetadata": {},
     "inputWidgets": {},
     "nuid": "e3e371dd-ba51-471b-b803-6d178204445a",
     "showTitle": false,
     "tableResultSettingsMap": {},
     "title": ""
    }
   },
   "source": [
    "# Predictive Maintenance Agent"
   ]
  },
  {
   "cell_type": "code",
   "execution_count": 0,
   "metadata": {
    "application/vnd.databricks.v1+cell": {
     "cellMetadata": {
      "byteLimit": 2048000,
      "rowLimit": 10000
     },
     "inputWidgets": {},
     "nuid": "30dcbb58-218b-450e-b70f-fca8c68607a6",
     "showTitle": false,
     "tableResultSettingsMap": {},
     "title": ""
    }
   },
   "outputs": [],
   "source": [
    "%pip install -U langchain langgraph databricks-sdk databricks-vectorsearch\n",
    "%pip install databricks-sdk[openai]\n",
    "%pip install grandalf\n",
    "dbutils.library.restartPython()"
   ]
  },
  {
   "cell_type": "code",
   "execution_count": 0,
   "metadata": {
    "application/vnd.databricks.v1+cell": {
     "cellMetadata": {
      "byteLimit": 2048000,
      "rowLimit": 10000
     },
     "inputWidgets": {},
     "nuid": "710202fe-3a07-44b3-b9e1-f37ac2755653",
     "showTitle": false,
     "tableResultSettingsMap": {},
     "title": ""
    }
   },
   "outputs": [],
   "source": [
    "# Import dependencies\n",
    "from langgraph.graph import StateGraph, START, END\n",
    "from typing import Literal\n",
    "from pydantic import BaseModel\n",
    "from databricks.vector_search.client import VectorSearchClient\n",
    "from databricks.sdk import WorkspaceClient\n",
    "import pickle\n",
    "from sklearn.ensemble import IsolationForest\n",
    "import mlflow\n",
    "from datetime import datetime"
   ]
  },
  {
   "cell_type": "code",
   "execution_count": 0,
   "metadata": {
    "application/vnd.databricks.v1+cell": {
     "cellMetadata": {
      "byteLimit": 2048000,
      "rowLimit": 10000
     },
     "inputWidgets": {},
     "nuid": "9250c2e5-3661-4422-a3f1-5a9d086d27d3",
     "showTitle": false,
     "tableResultSettingsMap": {},
     "title": ""
    }
   },
   "outputs": [],
   "source": [
    "# Configure\n",
    "AD_MODEL = \"runs:/1a6dfaa49bcf468fadcc986b6ef13952/model\"\n",
    "VECTOR_INDEX = \"workspace.genai_demo.maintenance_docs_index\"\n",
    "EMBEDDING_MODEL = \"databricks-gte-large-en\"\n",
    "LLM_MODEL = \"databricks-llama-4-maverick\"\n"
   ]
  },
  {
   "cell_type": "code",
   "execution_count": 0,
   "metadata": {
    "application/vnd.databricks.v1+cell": {
     "cellMetadata": {
      "byteLimit": 2048000,
      "rowLimit": 10000
     },
     "inputWidgets": {},
     "nuid": "fcdbef9e-820c-4818-be8f-cd6c1cfe9e00",
     "showTitle": false,
     "tableResultSettingsMap": {},
     "title": ""
    }
   },
   "outputs": [],
   "source": [
    "# Define State Schema\n",
    "class AgentState(BaseModel):\n",
    "    timestamp: datetime\n",
    "    machine_id: int\n",
    "    temperature: float\n",
    "    vibration: float\n",
    "    pressure: float\n",
    "    # Normal operating ranges\n",
    "    normal_temp: tuple[float, float] = (20, 36)\n",
    "    normal_vibration: tuple[float, float] = (1, 2.2)\n",
    "    normal_pressure: tuple[float, float] = (2, 4.5)\n",
    "    # RCA logs\n",
    "    is_anomaly: bool = False\n",
    "    query: str = \"\"\n",
    "    context: str = \"\"\n",
    "    suggestion: str = \"\""
   ]
  },
  {
   "cell_type": "code",
   "execution_count": 0,
   "metadata": {
    "application/vnd.databricks.v1+cell": {
     "cellMetadata": {
      "byteLimit": 2048000,
      "rowLimit": 10000
     },
     "inputWidgets": {},
     "nuid": "e0c4bb00-a174-43d4-bae9-b03488ce7242",
     "showTitle": false,
     "tableResultSettingsMap": {},
     "title": ""
    }
   },
   "outputs": [],
   "source": [
    "# Load resources for model, retriever, LLM\n",
    "# Load trained model from MLflow\n",
    "ad_model = mlflow.sklearn.load_model(AD_MODEL)\n",
    "\n",
    "# Initialize vector retriever\n",
    "vsc = VectorSearchClient()\n",
    "index = vsc.get_index(index_name=VECTOR_INDEX)  # adjust catalog/schema\n",
    "\n",
    "# Initialize LLM (Maverick)\n",
    "ws = WorkspaceClient()\n",
    "chat_client = ws.serving_endpoints.get_open_ai_client()"
   ]
  },
  {
   "cell_type": "code",
   "execution_count": 0,
   "metadata": {
    "application/vnd.databricks.v1+cell": {
     "cellMetadata": {
      "byteLimit": 2048000,
      "rowLimit": 10000
     },
     "inputWidgets": {},
     "nuid": "f7fa1eb8-a410-4943-bd6b-16eaa0923dab",
     "showTitle": false,
     "tableResultSettingsMap": {},
     "title": ""
    }
   },
   "outputs": [],
   "source": [
    "# Define Nodes\n",
    "def detect_anomaly(state: AgentState) -> dict:\n",
    "    X = [[state.temperature, state.vibration, state.pressure]]\n",
    "    state.is_anomaly = ad_model.predict(X)[0] == -1\n",
    "    return {\"is_anomaly\": state.is_anomaly}\n",
    "\n",
    "def rca_with_query_optimization(state: AgentState):\n",
    "    # 1. Optimize query\n",
    "    raw_query = (f\"Machine {state.machine_id} anomaly: T={state.temperature} [normal {state.normal_temp[0] - state.normal_temp[1]}], \"\n",
    "                 f\"V={state.vibration} [normal {state.normal_vibration[0]} - {state.normal_vibration[1]}], \"\n",
    "                 f\"P={state.pressure} [normal {state.normal_pressure[0]} - {state.normal_pressure[1]}]\")\n",
    "    q_opt_msg = [\n",
    "        {\"role\":\"system\",\"content\":\"Rewrite the following to a concise, technical search query focusing on deviation from normal operation.\"},\n",
    "        {\"role\":\"user\",\"content\":raw_query}\n",
    "    ]\n",
    "    q_opt = chat_client.chat.completions.create(model=LLM_MODEL, messages=q_opt_msg).choices[0].message.content\n",
    "    state.query = q_opt\n",
    "\n",
    "    # 2. Retrieve relevant documents\n",
    "    hits = index.similarity_search(query_text=q_opt, columns=[\"chunk_text\"], num_results=2, query_type=\"hybrid\")\n",
    "    context = \"\\n\\n\".join(hit[0] for hit in hits[\"result\"][\"data_array\"])\n",
    "    state.context = context\n",
    "    # 3. Generate root cause & action\n",
    "    prompt = [\n",
    "        {\"role\":\"system\",\"content\":\"You're an engineer analyzing machinery anomalies.\"},\n",
    "        {\"role\":\"user\",\"content\":\n",
    "         f\"Anomaly details:\\n{raw_query}\\n\\nContext:\\n{context}\\n\\nProvide root cause and maintenance actions.\"}\n",
    "    ]\n",
    "    response = chat_client.chat.completions.create(model=LLM_MODEL, messages=prompt)\n",
    "    suggestion = response.choices[0].message.content\n",
    "    state.suggestion = suggestion\n",
    "    return {\"suggestion\": suggestion}"
   ]
  },
  {
   "cell_type": "code",
   "execution_count": 0,
   "metadata": {
    "application/vnd.databricks.v1+cell": {
     "cellMetadata": {
      "byteLimit": 2048000,
      "rowLimit": 10000
     },
     "inputWidgets": {},
     "nuid": "e5a47972-05f6-4577-a914-cc737b109466",
     "showTitle": false,
     "tableResultSettingsMap": {},
     "title": ""
    }
   },
   "outputs": [],
   "source": [
    "# Build the LangGraph\n",
    "workflow = StateGraph(AgentState)\n",
    "workflow.add_node(\"detect_anomaly\", detect_anomaly)\n",
    "workflow.add_node(\"rca\", rca_with_query_optimization)\n",
    "workflow.add_edge(START, \"detect_anomaly\")\n",
    "workflow.add_conditional_edges(\"detect_anomaly\",\n",
    "    lambda s: \"rca\" if s.is_anomaly else \"normal\",\n",
    "    {\"rca\":\"rca\", \"normal\": END}\n",
    ")\n",
    "workflow.add_node(\"normal\", lambda s: {\"suggestion\": \"✅ Machine is operating properly.\"})\n",
    "workflow.add_edge(\"normal\", END)\n",
    "workflow.add_edge(\"rca\", END)\n",
    "\n",
    "agent = workflow.compile()"
   ]
  },
  {
   "cell_type": "code",
   "execution_count": 0,
   "metadata": {
    "application/vnd.databricks.v1+cell": {
     "cellMetadata": {
      "byteLimit": 2048000,
      "rowLimit": 10000
     },
     "inputWidgets": {},
     "nuid": "01dcf572-de48-47e1-89b5-99ae687582c5",
     "showTitle": false,
     "tableResultSettingsMap": {},
     "title": ""
    }
   },
   "outputs": [],
   "source": [
    "%pip install pyppeteer"
   ]
  },
  {
   "cell_type": "code",
   "execution_count": 0,
   "metadata": {
    "application/vnd.databricks.v1+cell": {
     "cellMetadata": {
      "byteLimit": 2048000,
      "rowLimit": 10000
     },
     "inputWidgets": {},
     "nuid": "74f74fc3-b693-451b-b8a6-32f015b86a5a",
     "showTitle": false,
     "tableResultSettingsMap": {},
     "title": ""
    }
   },
   "outputs": [],
   "source": [
    "print(agent.get_graph().draw_ascii())"
   ]
  },
  {
   "cell_type": "code",
   "execution_count": 0,
   "metadata": {
    "application/vnd.databricks.v1+cell": {
     "cellMetadata": {
      "byteLimit": 2048000,
      "rowLimit": 10000
     },
     "inputWidgets": {},
     "nuid": "41f9178e-7069-488e-8a97-a468be81599b",
     "showTitle": false,
     "tableResultSettingsMap": {},
     "title": ""
    }
   },
   "outputs": [],
   "source": [
    "# Test\n",
    "test = {\n",
    "    \"timestamp\": datetime.now(),\n",
    "    \"machine_id\": 2,\n",
    "    \"temperature\": 60.5,\n",
    "    \"vibration\": 3.7,\n",
    "    \"pressure\": 27.2,\n",
    "}\n",
    "print(agent.invoke(test)[\"suggestion\"])"
   ]
  },
  {
   "cell_type": "markdown",
   "metadata": {
    "application/vnd.databricks.v1+cell": {
     "cellMetadata": {},
     "inputWidgets": {},
     "nuid": "4986fc28-dad4-4bcc-89d2-620300f1d515",
     "showTitle": false,
     "tableResultSettingsMap": {},
     "title": ""
    }
   },
   "source": [
    "## Deploy and Serve"
   ]
  },
  {
   "cell_type": "code",
   "execution_count": 0,
   "metadata": {
    "application/vnd.databricks.v1+cell": {
     "cellMetadata": {
      "byteLimit": 2048000,
      "rowLimit": 10000
     },
     "inputWidgets": {},
     "nuid": "2f02707f-2e61-43df-acab-f51821020e70",
     "showTitle": false,
     "tableResultSettingsMap": {},
     "title": ""
    }
   },
   "outputs": [],
   "source": [
    "from mlflow.deployments import get_deploy_client\n",
    "import mlflow\n",
    "from langchain.schema.runnable import Runnable\n",
    "from langgraph.graph import StateGraph"
   ]
  },
  {
   "cell_type": "code",
   "execution_count": 0,
   "metadata": {
    "application/vnd.databricks.v1+cell": {
     "cellMetadata": {
      "byteLimit": 2048000,
      "rowLimit": 10000
     },
     "inputWidgets": {},
     "nuid": "9f4dc7a9-0fb7-445f-bad0-c2cdb64706af",
     "showTitle": false,
     "tableResultSettingsMap": {},
     "title": ""
    }
   },
   "outputs": [],
   "source": [
    "import mlflow.pyfunc\n",
    "\n",
    "class PredictiveMaintenanceAgent(mlflow.pyfunc.PythonModel):\n",
    "    def __init__(self, graph: StateGraph):\n",
    "        self._app = graph.compile()\n",
    "    \n",
    "    def invoke(self, input):\n",
    "        return self._app.invoke(input)\n",
    "\n",
    "agent = PredictiveMaintenanceAgent(workflow)\n",
    "\n",
    "mlflow.set_tracking_uri(\"databricks\")\n",
    "mlflow.set_registry_uri(\"databricks\")\n",
    "\n",
    "with mlflow.start_run() as run:\n",
    "  mlflow.pyfunc.log_model(\"agent_model\", python_model=agent)\n",
    "\n",
    "model_uri = f\"runs:/{run.info.run_id}/agent_model\"\n",
    "mlflow.register_model(model_uri=model_uri, name=\"predictive_maintenance_agent\")\n",
    "  "
   ]
  },
  {
   "cell_type": "code",
   "execution_count": 0,
   "metadata": {
    "application/vnd.databricks.v1+cell": {
     "cellMetadata": {},
     "inputWidgets": {},
     "nuid": "7b23e950-dc1f-4849-b6e5-9bc132c08bf1",
     "showTitle": false,
     "tableResultSettingsMap": {},
     "title": ""
    }
   },
   "outputs": [],
   "source": []
  }
 ],
 "metadata": {
  "application/vnd.databricks.v1+notebook": {
   "computePreferences": null,
   "dashboards": [],
   "environmentMetadata": {
    "base_environment": "",
    "environment_version": "2"
   },
   "inputWidgetPreferences": null,
   "language": "python",
   "notebookMetadata": {
    "pythonIndentUnit": 4
   },
   "notebookName": "05_predictive_maintenance_agent",
   "widgets": {}
  },
  "language_info": {
   "name": "python"
  }
 },
 "nbformat": 4,
 "nbformat_minor": 0
}
