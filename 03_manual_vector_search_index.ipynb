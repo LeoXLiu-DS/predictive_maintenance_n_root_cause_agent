{
 "cells": [
  {
   "cell_type": "code",
   "execution_count": 0,
   "metadata": {
    "application/vnd.databricks.v1+cell": {
     "cellMetadata": {
      "byteLimit": 2048000,
      "rowLimit": 10000
     },
     "inputWidgets": {},
     "nuid": "1e757a29-ccb6-435e-9be4-41043057f9c9",
     "showTitle": false,
     "tableResultSettingsMap": {},
     "title": ""
    }
   },
   "outputs": [],
   "source": [
    "%pip install databricks-vectorsearch databricks-langchain langchain-community databricks-sdk databricks-sdk[openai]\n",
    "dbutils.library.restartPython()"
   ]
  },
  {
   "cell_type": "markdown",
   "metadata": {
    "application/vnd.databricks.v1+cell": {
     "cellMetadata": {},
     "inputWidgets": {},
     "nuid": "ca1ba4c0-1f6c-4a9f-a388-61d6f6c580f5",
     "showTitle": false,
     "tableResultSettingsMap": {},
     "title": ""
    }
   },
   "source": [
    "## Prepare Machine Manual Documents (synthetic)"
   ]
  },
  {
   "cell_type": "code",
   "execution_count": 0,
   "metadata": {
    "application/vnd.databricks.v1+cell": {
     "cellMetadata": {
      "byteLimit": 2048000,
      "rowLimit": 10000
     },
     "inputWidgets": {},
     "nuid": "1c7ae733-3a52-457e-a817-e56d4aff2a35",
     "showTitle": false,
     "tableResultSettingsMap": {},
     "title": ""
    }
   },
   "outputs": [],
   "source": [
    "manual_bearings = \"\"\"Title: Motor Bearing Inspection and Replacement Guide\n",
    "\n",
    "1. Purpose:\n",
    "   Bearings should be inspected when vibration exceeds 3.5 mm/s or temperature rises above 55°C.\n",
    "\n",
    "2. Symptoms of bearing wear:\n",
    "   - Increased vibration or noise\n",
    "   - Abnormal heat near shaft\n",
    "   - Reduced RPMs or power draw increase\n",
    "\n",
    "3. Recommended Actions:\n",
    "   - Shut down equipment safely\n",
    "   - Use IR thermometer to confirm localized heating\n",
    "   - Check for play in shaft coupling\n",
    "   - Replace both drive-end and non-drive-end bearings\n",
    "   - Log bearing condition in CMMS after replacement\"\"\"\n",
    "\n",
    "\n",
    "manual_overheating = \"\"\"Title: Troubleshooting Overheating in Electric Motors\n",
    "\n",
    "1. Common Causes:\n",
    "   - Blocked ventilation or dirty cooling fans\n",
    "   - Electrical overload\n",
    "   - Shaft misalignment\n",
    "   - Lubrication failure (dry bearing)\n",
    "\n",
    "2. Indicators:\n",
    "   - Temperature exceeding 60°C during normal load\n",
    "   - Motor casing warm to touch or smelling of burnt insulation\n",
    "   - Vibrations > 3.2 mm/s\n",
    "\n",
    "3. Recommended Actions:\n",
    "   - Clean cooling ducts and check fan blades\n",
    "   - Verify motor current vs rated amps\n",
    "   - Inspect for shaft alignment using dial indicators\n",
    "   - Relubricate bearings or check for grease breakdown\"\"\"\n",
    "\n",
    "\n",
    "manual_presure_drop = \"\"\"Title: Pressure Drop in Hydraulic Systems\n",
    "\n",
    "1. Normal operating pressure: 30-35 PSI\n",
    "2. Warning level: < 28 PSI\n",
    "3. Possible Causes:\n",
    "   - Internal leak in actuator or valve\n",
    "   - Blockage in fluid line\n",
    "   - Air entrapment or low fluid level\n",
    "\n",
    "4. Fix Procedures:\n",
    "   - Check reservoir level and refill if low\n",
    "   - Bleed air from the system using purge valves\n",
    "   - Inspect filters and lines for clogs or wear\n",
    "   - Run system diagnostics to isolate fault location\"\"\"\n",
    "\n",
    "\n",
    "manual_lubrication = \"\"\"Title: Lubrication Maintenance Procedures for Rotary Equipment\n",
    "\n",
    "1. Purpose:\n",
    "   Ensure adequate lubrication to prevent mechanical wear and overheating.\n",
    "\n",
    "2. Recommended Lubrication Intervals:\n",
    "   - Bearings: every 500 operational hours\n",
    "   - Gearboxes: every 1,000 operational hours or per OEM spec\n",
    "   - Use high-grade synthetic grease (NLGI 2) for high-speed shafts\n",
    "\n",
    "3. Symptoms of Lubrication Failure:\n",
    "   - Rising temperature (> 55°C) near bearing housing\n",
    "   - Increased noise or vibration (> 3.2 mm/s)\n",
    "   - Visible oil leakage or grease seal failure\n",
    "\n",
    "4. Troubleshooting and Repair:\n",
    "   - Inspect seal condition and replace if faulty\n",
    "   - Clean old grease and apply fresh lubricant uniformly\n",
    "   - Monitor vibration for stabilization after lubrication\n",
    "   - Record in CMMS with grease type and batch number\"\"\"\n",
    "\n",
    "\n",
    "manual_alignment = \"\"\"Title: Shaft Alignment and Coupling Alignment Guide\n",
    "\n",
    "1. Purpose:\n",
    "   Prevent undue stress, vibration, and premature failure due to misalignment.\n",
    "\n",
    "2. Types of Misalignment:\n",
    "   - Angular: shaft angles misaligned (> 0.1°)\n",
    "   - Parallel/Offset: centerline displacement (> 0.1 mm)\n",
    "\n",
    "3. Symptoms:\n",
    "   - Persistent vibration (> 3.5 mm/s)\n",
    "   - Abnormal coupling wear or noise\n",
    "   - Bearing temperatures elevated by > 5°C above baseline\n",
    "\n",
    "4. Alignment Procedure:\n",
    "   - Use dial indicators or laser alignment tools\n",
    "   - Allow machine to cool to idle temperature before measuring\n",
    "   - Adjust motor/drive position until angular + parallel errors < 0.05 mm\n",
    "   - Tighten coupling bolts to OEM torque specs\"\"\"\n",
    "\n",
    "\n",
    "manual_electical_inspection = \"\"\"Title: Electrical Inspection Procedures for AC Motors\n",
    "\n",
    "1. Visual Inspection:\n",
    "   - Check stator windings for discoloration or insulation damage\n",
    "   - Ensure proper grounding and tight terminal connections\n",
    "\n",
    "2. Electrical Testing:\n",
    "   - Use megohmmeter to test insulation resistance (> 1 MΩ)\n",
    "   - Measure line-to-line and line-to-neutral voltages; allow < 5% imbalance\n",
    "\n",
    "3. Symptoms of Electrical Fault:\n",
    "   - Excess heat (> 60°C) at casing or terminal box\n",
    "   - Erratic motor current, voltage spikes, or tripping\n",
    "   - Burning smell or smoke traces\n",
    "\n",
    "4. Recommended Actions:\n",
    "   - De-energize and allow cooling before opening terminal box\n",
    "   - Replace damaged windings or insulation immediately\n",
    "   - Balance power supply and check drive parameters\n",
    "   - Document meter readings and corrective action taken\"\"\""
   ]
  },
  {
   "cell_type": "markdown",
   "metadata": {
    "application/vnd.databricks.v1+cell": {
     "cellMetadata": {},
     "inputWidgets": {},
     "nuid": "7ce0f5d1-8185-40ad-a193-966e8a99dee4",
     "showTitle": false,
     "tableResultSettingsMap": {},
     "title": ""
    }
   },
   "source": [
    "## Load and Chunk the Documents"
   ]
  },
  {
   "cell_type": "code",
   "execution_count": 0,
   "metadata": {
    "application/vnd.databricks.v1+cell": {
     "cellMetadata": {
      "byteLimit": 2048000,
      "rowLimit": 10000
     },
     "inputWidgets": {},
     "nuid": "6c472214-2051-482a-ac64-67eb389140e5",
     "showTitle": false,
     "tableResultSettingsMap": {},
     "title": ""
    }
   },
   "outputs": [],
   "source": [
    "from langchain.text_splitter import RecursiveCharacterTextSplitter\n",
    "from databricks.vector_search.client import VectorSearchClient\n",
    "import uuid"
   ]
  },
  {
   "cell_type": "code",
   "execution_count": 0,
   "metadata": {
    "application/vnd.databricks.v1+cell": {
     "cellMetadata": {
      "byteLimit": 2048000,
      "rowLimit": 10000
     },
     "inputWidgets": {},
     "nuid": "b9d5d3a6-0f68-4b27-9e1c-5d8d5052043d",
     "showTitle": false,
     "tableResultSettingsMap": {},
     "title": ""
    }
   },
   "outputs": [],
   "source": [
    "# Load and chunk manual documents\n",
    "docs = [\n",
    "  manual_bearings, \n",
    "  manual_overheating, \n",
    "  manual_presure_drop,\n",
    "  manual_lubrication,\n",
    "  manual_alignment,\n",
    "  manual_electical_inspection\n",
    "  ]\n",
    "splitter = RecursiveCharacterTextSplitter(chunk_size=800, chunk_overlap=50)\n",
    "\n",
    "chunks = []\n",
    "for doc in docs:\n",
    "  chunks.extend(splitter.split_text(doc))\n",
    "\n",
    "records = [(str(uuid.uuid4()), chunk) for chunk in chunks]\n",
    "df_records = spark.createDataFrame(records, schema=\"id STRING, chunk_text STRING\")"
   ]
  },
  {
   "cell_type": "code",
   "execution_count": 0,
   "metadata": {
    "application/vnd.databricks.v1+cell": {
     "cellMetadata": {
      "byteLimit": 2048000,
      "rowLimit": 10000
     },
     "inputWidgets": {},
     "nuid": "88c58669-c72f-4fc7-8b62-b9ec4617fba1",
     "showTitle": false,
     "tableResultSettingsMap": {},
     "title": ""
    }
   },
   "outputs": [],
   "source": [
    "# Define Unity Catalog table name\n",
    "CATALOG = \"workspace\"\n",
    "SCHEMA = \"genai_demo\"\n",
    "table_docs = \"maintenance_docs_chunks\"\n",
    "\n",
    "# Save to Delta table\n",
    "df_records.write.mode(\"overwrite\").saveAsTable(f\"{CATALOG}.{SCHEMA}.{table_docs}\")"
   ]
  },
  {
   "cell_type": "markdown",
   "metadata": {
    "application/vnd.databricks.v1+cell": {
     "cellMetadata": {},
     "inputWidgets": {},
     "nuid": "8f39fa43-2e0c-4a32-8629-7113a817cd46",
     "showTitle": false,
     "tableResultSettingsMap": {},
     "title": ""
    }
   },
   "source": [
    "## Create a Delta Sync Vector Index"
   ]
  },
  {
   "cell_type": "markdown",
   "metadata": {
    "application/vnd.databricks.v1+cell": {
     "cellMetadata": {},
     "inputWidgets": {},
     "nuid": "ae8a3919-3c8a-49f8-a863-ff4c40fcebd5",
     "showTitle": false,
     "tableResultSettingsMap": {},
     "title": ""
    }
   },
   "source": [
    "### Create a Vector Search Endpoint"
   ]
  },
  {
   "cell_type": "code",
   "execution_count": 0,
   "metadata": {
    "application/vnd.databricks.v1+cell": {
     "cellMetadata": {
      "byteLimit": 2048000,
      "rowLimit": 10000
     },
     "inputWidgets": {},
     "nuid": "ef3e8fc1-9cbf-43e0-a076-cda40f14fb5f",
     "showTitle": false,
     "tableResultSettingsMap": {},
     "title": ""
    }
   },
   "outputs": [],
   "source": [
    "from databricks.vector_search.client import VectorSearchClient\n",
    "\n",
    "client = VectorSearchClient()\n",
    "endpoint_name = \"maintenance_endpoint\"\n",
    "\n",
    "# Create endpoint (Standard or Storage Optimized)\n",
    "client.create_endpoint(name=endpoint_name, endpoint_type=\"STANDARD\")\n",
    "client.wait_for_endpoint(name=endpoint_name, verbose=True)\n",
    "print(f\"Endpoint '{endpoint_name}' is ready.\")\n"
   ]
  },
  {
   "cell_type": "markdown",
   "metadata": {
    "application/vnd.databricks.v1+cell": {
     "cellMetadata": {},
     "inputWidgets": {},
     "nuid": "f427ab38-b161-42ef-8ae5-69ab009c068e",
     "showTitle": false,
     "tableResultSettingsMap": {},
     "title": ""
    }
   },
   "source": [
    "### Create a Vector Index"
   ]
  },
  {
   "cell_type": "code",
   "execution_count": 0,
   "metadata": {
    "application/vnd.databricks.v1+cell": {
     "cellMetadata": {
      "byteLimit": 2048000,
      "rowLimit": 10000
     },
     "inputWidgets": {},
     "nuid": "522c7c7a-7014-4197-9dbe-d62f976a154e",
     "showTitle": false,
     "tableResultSettingsMap": {},
     "title": ""
    }
   },
   "outputs": [],
   "source": [
    "# Enable Change Data Feed\n",
    "spark.sql(f\"\"\"\n",
    "ALTER TABLE {CATALOG}.{SCHEMA}.{table_docs}\n",
    "SET TBLPROPERTIES (delta.enableChangeDataFeed = true)\n",
    "\"\"\")"
   ]
  },
  {
   "cell_type": "code",
   "execution_count": 0,
   "metadata": {
    "application/vnd.databricks.v1+cell": {
     "cellMetadata": {
      "byteLimit": 2048000,
      "rowLimit": 10000
     },
     "inputWidgets": {},
     "nuid": "42792c17-e2ce-4fca-833a-b89d284df698",
     "showTitle": false,
     "tableResultSettingsMap": {},
     "title": ""
    }
   },
   "outputs": [],
   "source": [
    "client = VectorSearchClient()\n",
    "\n",
    "uc_table_source = f\"{CATALOG}.{SCHEMA}.{table_docs}\"\n",
    "index_name = \"maintenance_docs_index\"\n",
    "uc_index_name = f\"{CATALOG}.{SCHEMA}.{index_name}\"\n",
    "\n",
    "embedding_model = \"text-embedding-3-large\"\n",
    "# embedding_model = \"databricks-gte-large-en\"\n",
    "\n",
    "index = client.create_delta_sync_index(\n",
    "  endpoint_name=endpoint_name,\n",
    "  source_table_name=uc_table_source,\n",
    "  index_name=uc_index_name,\n",
    "  pipeline_type=\"TRIGGERED\",\n",
    "  primary_key=\"id\",\n",
    "  embedding_source_column=\"chunk_text\",\n",
    "  embedding_model_endpoint_name=embedding_model,\n",
    ")"
   ]
  },
  {
   "cell_type": "code",
   "execution_count": 0,
   "metadata": {
    "application/vnd.databricks.v1+cell": {
     "cellMetadata": {
      "byteLimit": 2048000,
      "rowLimit": 10000
     },
     "inputWidgets": {},
     "nuid": "2e2776d4-7a72-4adf-a6ef-f0fc0d91f7a5",
     "showTitle": false,
     "tableResultSettingsMap": {},
     "title": ""
    }
   },
   "outputs": [],
   "source": [
    "index.sync()"
   ]
  },
  {
   "cell_type": "markdown",
   "metadata": {
    "application/vnd.databricks.v1+cell": {
     "cellMetadata": {},
     "inputWidgets": {},
     "nuid": "9bde6189-954f-4612-9051-1c83a739fd1c",
     "showTitle": false,
     "tableResultSettingsMap": {},
     "title": ""
    }
   },
   "source": [
    "## Index Query and Anomaly Root Cause Analysis"
   ]
  },
  {
   "cell_type": "code",
   "execution_count": 0,
   "metadata": {
    "application/vnd.databricks.v1+cell": {
     "cellMetadata": {
      "byteLimit": 2048000,
      "rowLimit": 10000
     },
     "inputWidgets": {},
     "nuid": "17b3924f-10c2-46f8-a3fc-8f0a11aa90c6",
     "showTitle": false,
     "tableResultSettingsMap": {},
     "title": ""
    }
   },
   "outputs": [],
   "source": [
    "from databricks.vector_search.client import VectorSearchClient\n",
    "from databricks.sdk import WorkspaceClient"
   ]
  },
  {
   "cell_type": "code",
   "execution_count": 0,
   "metadata": {
    "application/vnd.databricks.v1+cell": {
     "cellMetadata": {
      "byteLimit": 2048000,
      "rowLimit": 10000
     },
     "inputWidgets": {},
     "nuid": "4f429a1f-61ef-47ca-8d26-58c747dab31a",
     "showTitle": false,
     "tableResultSettingsMap": {},
     "title": ""
    }
   },
   "outputs": [],
   "source": [
    "res"
   ]
  },
  {
   "cell_type": "code",
   "execution_count": 0,
   "metadata": {
    "application/vnd.databricks.v1+cell": {
     "cellMetadata": {
      "byteLimit": 2048000,
      "rowLimit": 10000
     },
     "inputWidgets": {},
     "nuid": "a7c09cb6-26fd-41b3-b77e-f8475f2d7756",
     "showTitle": false,
     "tableResultSettingsMap": {},
     "title": ""
    }
   },
   "outputs": [],
   "source": [
    "CATALOG = \"workspace\"\n",
    "SCHEMA = \"genai_demo\"\n",
    "index_name = \"maintenance_docs_index\"\n",
    "\n",
    "uc_index_name = f\"{CATALOG}.{SCHEMA}.{index_name}\"\n",
    "\n",
    "ws = WorkspaceClient()\n",
    "client = VectorSearchClient()\n",
    "index = client.get_index(index_name=uc_index_name)\n",
    "\n",
    "# Example anomaly description\n",
    "anomaly_text = (\n",
    "  \"Machine 3 shows temperature 62°C, vibration 3.9 mm/s, pressure 27 PSI\"\n",
    ")\n",
    "\n",
    "# Retrieve relevant chunks\n",
    "res = index.similarity_search(\n",
    "    query_text=anomaly_text,\n",
    "    columns=[\"chunk_text\"],\n",
    "    num_results=1,\n",
    "    query_type=\"hybrid\"\n",
    ")\n",
    "context = \"\\n\\n\".join([r[0] for r in res[\"result\"][\"data_array\"]])\n",
    "\n",
    "# Call LLaMA-4 Maverick via AI Functions\n",
    "response = ws.serving_endpoints.get_open_ai_client().chat.completions.create(\n",
    "    # model=\"databricks-llama-4-maverick\",\n",
    "    model=\"gpt-41\",\n",
    "    messages=[\n",
    "        {\"role\": \"system\", \"content\": \"You are an expert maintenance engineer.\"},\n",
    "        {\"role\": \"user\", \"content\":\n",
    "            f\"Anomaly:\\n{anomaly_text}\\n\\nContext from manuals:\\n{context}\\n\\n\"\n",
    "            \"What is the likely root cause and recommended action?\"\n",
    "        }\n",
    "    ]\n",
    ")\n",
    "print(response.choices[0].message.content)"
   ]
  },
  {
   "cell_type": "markdown",
   "metadata": {
    "application/vnd.databricks.v1+cell": {
     "cellMetadata": {},
     "inputWidgets": {},
     "nuid": "73a63d92-6c29-435f-8fff-d37435fde810",
     "showTitle": false,
     "tableResultSettingsMap": {},
     "title": ""
    }
   },
   "source": [
    "## Delete Index and Index Endpoint"
   ]
  },
  {
   "cell_type": "code",
   "execution_count": 0,
   "metadata": {
    "application/vnd.databricks.v1+cell": {
     "cellMetadata": {},
     "inputWidgets": {},
     "nuid": "efba6c94-1824-4d80-bfbb-9cb9c360aa70",
     "showTitle": false,
     "tableResultSettingsMap": {},
     "title": ""
    }
   },
   "outputs": [],
   "source": [
    "from databricks.vector_search.client import VectorSearchClient\n",
    "\n",
    "vsc = VectorSearchClient()\n",
    "CATALOG = \"workspace\"\n",
    "SCHEMA = \"genai_demo\"\n",
    "index_name = \"maintenance_docs_index\"\n",
    "uc_index_name = f\"{CATALOG}.{SCHEMA}.{index_name}\"\n",
    "vsc.delete_index(index_name=uc_index_name)"
   ]
  },
  {
   "cell_type": "code",
   "execution_count": 0,
   "metadata": {
    "application/vnd.databricks.v1+cell": {
     "cellMetadata": {},
     "inputWidgets": {},
     "nuid": "22dea23d-1ac6-4223-9fe3-9d829c23f5c6",
     "showTitle": false,
     "tableResultSettingsMap": {},
     "title": ""
    }
   },
   "outputs": [],
   "source": [
    "endpoint_name = \"maintenance_endpoint\"\n",
    "vsc.delete_endpoint(endpoint_name)"
   ]
  }
 ],
 "metadata": {
  "application/vnd.databricks.v1+notebook": {
   "computePreferences": null,
   "dashboards": [],
   "environmentMetadata": {
    "base_environment": "",
    "environment_version": "2"
   },
   "inputWidgetPreferences": null,
   "language": "python",
   "notebookMetadata": {
    "mostRecentlyExecutedCommandWithImplicitDF": {
     "commandId": 5735723611426898,
     "dataframes": [
      "_sqldf"
     ]
    },
    "pythonIndentUnit": 4
   },
   "notebookName": "03_manual_vector_search_index",
   "widgets": {}
  },
  "language_info": {
   "name": "python"
  }
 },
 "nbformat": 4,
 "nbformat_minor": 0
}
