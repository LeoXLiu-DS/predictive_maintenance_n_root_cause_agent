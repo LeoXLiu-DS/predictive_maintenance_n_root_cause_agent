{
 "cells": [
  {
   "cell_type": "code",
   "execution_count": 0,
   "metadata": {
    "application/vnd.databricks.v1+cell": {
     "cellMetadata": {
      "byteLimit": 2048000,
      "rowLimit": 10000
     },
     "inputWidgets": {},
     "nuid": "0c4ae94a-cf15-4e2e-9b92-56c37bf604bc",
     "showTitle": false,
     "tableResultSettingsMap": {},
     "title": ""
    }
   },
   "outputs": [],
   "source": [
    "%pip install -U langchain langgraph databricks-sdk databricks-vectorsearch\n",
    "%pip install databricks-sdk[openai]\n",
    "%pip install grandalf\n",
    "%pip install pyppeteer\n",
    "%pip install -U databricks-agents>=0.16.0 mlflow>=2.20.2 databricks-langchain databricks-openai\n",
    "dbutils.library.restartPython()"
   ]
  },
  {
   "cell_type": "code",
   "execution_count": 0,
   "metadata": {
    "application/vnd.databricks.v1+cell": {
     "cellMetadata": {
      "byteLimit": 2048000,
      "rowLimit": 10000
     },
     "inputWidgets": {},
     "nuid": "42798886-ad4c-452a-8ddd-1ffe4ff3acf9",
     "showTitle": false,
     "tableResultSettingsMap": {},
     "title": ""
    }
   },
   "outputs": [],
   "source": [
    "%load_ext autoreload\n",
    "%autoreload 2\n",
    "# Enables autoreload; learn more at https://docs.databricks.com/en/files/workspace-modules.html#autoreload-for-python-modules\n",
    "# To disable autoreload; run %autoreload 0"
   ]
  },
  {
   "cell_type": "markdown",
   "metadata": {
    "application/vnd.databricks.v1+cell": {
     "cellMetadata": {},
     "inputWidgets": {},
     "nuid": "e3e371dd-ba51-471b-b803-6d178204445a",
     "showTitle": false,
     "tableResultSettingsMap": {},
     "title": ""
    }
   },
   "source": [
    "# Predictive Maintenance Agent"
   ]
  },
  {
   "cell_type": "code",
   "execution_count": 0,
   "metadata": {
    "application/vnd.databricks.v1+cell": {
     "cellMetadata": {
      "byteLimit": 2048000,
      "rowLimit": 10000
     },
     "inputWidgets": {},
     "nuid": "9250c2e5-3661-4422-a3f1-5a9d086d27d3",
     "showTitle": false,
     "tableResultSettingsMap": {},
     "title": ""
    }
   },
   "outputs": [],
   "source": [
    "# Import dependencies\n",
    "from langgraph.graph import StateGraph, START, END\n",
    "from pydantic import BaseModel\n",
    "from datetime import datetime\n",
    "import mlflow\n",
    "from databricks.vector_search.client import VectorSearchClient\n",
    "from databricks_langchain import ChatDatabricks\n",
    "\n",
    "mlflow.langchain.autolog()\n",
    "\n",
    "# Configure\n",
    "CATALOG = \"workspace\"\n",
    "SCHEMA = \"genai_demo\"\n",
    "MODEL_NAME = \"isolation_forest_pm_model\"\n",
    "MODEL_VERSION = 1\n",
    "MODEL_NAME_FULL = f\"models:/{CATALOG}.{SCHEMA}.{MODEL_NAME}/{MODEL_VERSION}\"\n",
    "INDEX_NAME = \"maintenance_docs_index\"\n",
    "INDEX_NAME_FULL = f\"{CATALOG}.{SCHEMA}.{INDEX_NAME}\"\n",
    "# LLM_MODEL = \"databricks-llama-4-maverick\"\n",
    "LLM_MODEL = \"gpt-41\"\n",
    "TEMPERATURE = 0.1\n",
    "\n",
    "\n",
    "# Define State Schema\n",
    "class AgentState(BaseModel):\n",
    "    timestamp: datetime\n",
    "    machine_id: int\n",
    "    temperature: float\n",
    "    vibration: float\n",
    "    pressure: float\n",
    "    # Normal operating ranges\n",
    "    normal_temp: tuple[float, float] = (20, 36)\n",
    "    normal_vibration: tuple[float, float] = (1, 2.2)\n",
    "    normal_pressure: tuple[float, float] = (2, 4.5)\n",
    "    # RCA logs\n",
    "    is_anomaly: bool = False\n",
    "    query: str = \"\"\n",
    "    context: str = \"\"\n",
    "    suggestion: str = \"\"\n",
    "\n",
    "\n",
    "# Load trained model from MLflow\n",
    "ad_model = mlflow.sklearn.load_model(MODEL_NAME_FULL)\n",
    "\n",
    "# Initialize vector retriever\n",
    "vsc = VectorSearchClient()\n",
    "index = vsc.get_index(index_name=INDEX_NAME_FULL)\n",
    "\n",
    "# Initialize LLM (Maverick)\n",
    "llm = ChatDatabricks(\n",
    "    target_uri=\"databricks\",\n",
    "    endpoint=LLM_MODEL,\n",
    "    temperature=TEMPERATURE,\n",
    ")\n",
    "\n",
    "\n",
    "# Define Nodes\n",
    "def detect_anomaly(state: AgentState) -> dict:\n",
    "    X = [[state.temperature, state.vibration, state.pressure]]\n",
    "    state.is_anomaly = ad_model.predict(X)[0] == -1\n",
    "    return {\"is_anomaly\": state.is_anomaly}\n",
    "\n",
    "def rca_with_query_optimization(state: AgentState):\n",
    "    # 1. Optimize query\n",
    "    raw_query = (f\"Machine {state.machine_id} anomaly: T={state.temperature} [normal {state.normal_temp[0] - state.normal_temp[1]}], \"\n",
    "                 f\"V={state.vibration} [normal {state.normal_vibration[0]} - {state.normal_vibration[1]}], \"\n",
    "                 f\"P={state.pressure} [normal {state.normal_pressure[0]} - {state.normal_pressure[1]}]\")\n",
    "    q_opt_msg = [\n",
    "        {\"role\":\"system\",\"content\":\"Rewrite the following to a concise, technical search query focusing on deviation from normal operation.\"},\n",
    "        {\"role\":\"user\",\"content\":raw_query}\n",
    "    ]\n",
    "    q_opt = llm.invoke(q_opt_msg).content\n",
    "    state.query = q_opt\n",
    "\n",
    "    # 2. Retrieve relevant documents\n",
    "    hits = index.similarity_search(query_text=q_opt, columns=[\"chunk_text\"], num_results=2, query_type=\"hybrid\")\n",
    "    context = \"\\n\\n\".join(hit[0] for hit in hits[\"result\"][\"data_array\"])\n",
    "    state.context = context\n",
    "    # 3. Generate root cause & action\n",
    "    prompt = [\n",
    "        {\"role\":\"system\",\"content\":\"You're an engineer analyzing machinery anomalies.\"},\n",
    "        {\"role\":\"user\",\"content\":\n",
    "         f\"Anomaly details:\\n{raw_query}\\n\\nContext:\\n{context}\\n\\nProvide root cause and maintenance actions.\"}\n",
    "    ]\n",
    "    response = llm.invoke(prompt)\n",
    "    suggestion = response.content\n",
    "    state.suggestion = suggestion\n",
    "    return {\"suggestion\": suggestion, \"context\": context, \"query\": q_opt}\n",
    "\n",
    "\n",
    "def normal(state: AgentState) -> dict:\n",
    "    suggestion = \"✅ Machine is operating properly.\"\n",
    "    state.suggestion = suggestion\n",
    "    return {\"suggestion\": \"✅ Machine is operating properly.\"}\n",
    "\n",
    "\n",
    "workflow = StateGraph(AgentState)\n",
    "workflow.add_node(\"detect_anomaly\", detect_anomaly)\n",
    "workflow.add_node(\"rca\", rca_with_query_optimization)\n",
    "workflow.add_edge(START, \"detect_anomaly\")\n",
    "workflow.add_conditional_edges(\"detect_anomaly\",\n",
    "    lambda s: \"rca\" if s.is_anomaly else \"normal\",\n",
    "    {\"rca\":\"rca\", \"normal\": \"normal\"}\n",
    ")\n",
    "workflow.add_node(\"normal\", normal)\n",
    "workflow.add_edge(\"normal\", END)\n",
    "workflow.add_edge(\"rca\", END)\n",
    "\n",
    "agent = workflow.compile()"
   ]
  },
  {
   "cell_type": "code",
   "execution_count": 0,
   "metadata": {
    "application/vnd.databricks.v1+cell": {
     "cellMetadata": {
      "byteLimit": 2048000,
      "rowLimit": 10000
     },
     "inputWidgets": {},
     "nuid": "8c527fc2-ef8e-4ead-87c3-1f512e1d383d",
     "showTitle": false,
     "tableResultSettingsMap": {},
     "title": ""
    }
   },
   "outputs": [],
   "source": [
    "# Plot the agent graph\n",
    "print(agent.get_graph().draw_ascii())"
   ]
  },
  {
   "cell_type": "code",
   "execution_count": 0,
   "metadata": {
    "application/vnd.databricks.v1+cell": {
     "cellMetadata": {
      "byteLimit": 2048000,
      "rowLimit": 10000
     },
     "inputWidgets": {},
     "nuid": "59e078bf-9be7-4b5e-96f9-3e017a2aacbc",
     "showTitle": false,
     "tableResultSettingsMap": {},
     "title": ""
    }
   },
   "outputs": [],
   "source": [
    "# Normal Case\n",
    "\n",
    "sensor_data = {\n",
    "    \"timestamp\": datetime.now(), \n",
    "    \"machine_id\": 1, \n",
    "    \"temperature\": 20, \n",
    "    \"vibration\": 1.5, \n",
    "    \"pressure\": 3}\n",
    "response = agent.invoke(sensor_data)\n",
    "print(response[\"suggestion\"])\n"
   ]
  },
  {
   "cell_type": "code",
   "execution_count": 0,
   "metadata": {
    "application/vnd.databricks.v1+cell": {
     "cellMetadata": {
      "byteLimit": 2048000,
      "rowLimit": 10000
     },
     "inputWidgets": {},
     "nuid": "6a8b18d6-f13c-4212-903b-09b638edf3b6",
     "showTitle": false,
     "tableResultSettingsMap": {},
     "title": ""
    }
   },
   "outputs": [],
   "source": [
    "# Anomalous Case\n",
    "\n",
    "sensor_data = {\n",
    "    \"timestamp\": datetime.now(), \n",
    "    \"machine_id\": 1, \n",
    "    \"temperature\": 65, \n",
    "    \"vibration\": 3.5, \n",
    "    \"pressure\": 1}\n",
    "\n",
    "response = agent.invoke(sensor_data)\n",
    "\n",
    "print(response[\"suggestion\"])\n",
    "print('\\n----------------------------\\n')\n",
    "print(response[\"context\"])"
   ]
  }
 ],
 "metadata": {
  "application/vnd.databricks.v1+notebook": {
   "computePreferences": null,
   "dashboards": [],
   "environmentMetadata": {
    "base_environment": "",
    "environment_version": "2"
   },
   "inputWidgetPreferences": null,
   "language": "python",
   "notebookMetadata": {
    "pythonIndentUnit": 4
   },
   "notebookName": "05_workflow_pm_rca",
   "widgets": {}
  },
  "language_info": {
   "name": "python"
  }
 },
 "nbformat": 4,
 "nbformat_minor": 0
}
