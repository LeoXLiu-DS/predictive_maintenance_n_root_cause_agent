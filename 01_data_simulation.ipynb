{
 "cells": [
  {
   "cell_type": "markdown",
   "metadata": {
    "application/vnd.databricks.v1+cell": {
     "cellMetadata": {},
     "inputWidgets": {},
     "nuid": "68241b27-6dde-4e52-ab44-6f7fc623a963",
     "showTitle": false,
     "tableResultSettingsMap": {},
     "title": ""
    }
   },
   "source": [
    "# Simulate Sensor Data"
   ]
  },
  {
   "cell_type": "code",
   "execution_count": 0,
   "metadata": {
    "application/vnd.databricks.v1+cell": {
     "cellMetadata": {
      "byteLimit": 2048000,
      "rowLimit": 10000
     },
     "inputWidgets": {},
     "nuid": "e8bc67df-e9a0-47e7-a35f-cc2119bff681",
     "showTitle": false,
     "tableResultSettingsMap": {},
     "title": ""
    }
   },
   "outputs": [],
   "source": [
    "import pandas as pd\n",
    "import numpy as np\n",
    "from datetime import datetime, timedelta\n",
    "import random"
   ]
  },
  {
   "cell_type": "code",
   "execution_count": 0,
   "metadata": {
    "application/vnd.databricks.v1+cell": {
     "cellMetadata": {
      "byteLimit": 2048000,
      "rowLimit": 10000
     },
     "inputWidgets": {},
     "nuid": "c0bdaa3b-a084-47ec-a4b1-0a778f742194",
     "showTitle": false,
     "tableResultSettingsMap": {},
     "title": ""
    }
   },
   "outputs": [],
   "source": [
    "def generate_sensor_data(start_time, periods, machine_ids, anomaly_chance=0.01, inject_anomalies=False):\n",
    "    data = []\n",
    "    for machine_id in machine_ids:\n",
    "        base_temp = random.uniform(20, 35)\n",
    "        base_vib = random.uniform(1.0, 2.0)\n",
    "        base_pres = random.uniform(30, 35)\n",
    "\n",
    "        for i in range(periods):\n",
    "            t = start_time + timedelta(minutes=5 * i)\n",
    "\n",
    "            temp = base_temp + np.random.normal(0, 1)\n",
    "            vib = base_vib + np.random.normal(0, 0.2)\n",
    "            pres = base_pres + np.random.normal(0, 0.5)\n",
    "            inliner = 1\n",
    "            # Inject anomalies in ~1% of rows\n",
    "            if inject_anomalies and random.random() < anomaly_chance:\n",
    "                temp += random.uniform(10, 20)\n",
    "                vib += random.uniform(1, 2)\n",
    "                pres -= random.uniform(2, 4)\n",
    "                inliner = -1\n",
    "            data.append((t, machine_id, temp, vib, pres, inliner))\n",
    "\n",
    "    return pd.DataFrame(data, columns=['timestamp', 'machine_id', 'temperature', 'vibration', 'pressure', 'inliner'])"
   ]
  },
  {
   "cell_type": "markdown",
   "metadata": {
    "application/vnd.databricks.v1+cell": {
     "cellMetadata": {},
     "inputWidgets": {},
     "nuid": "64cc5bda-7d2a-425f-94b0-6d8c3aa8aaf1",
     "showTitle": false,
     "tableResultSettingsMap": {},
     "title": ""
    }
   },
   "source": [
    "## Simulate normal training data"
   ]
  },
  {
   "cell_type": "code",
   "execution_count": 0,
   "metadata": {
    "application/vnd.databricks.v1+cell": {
     "cellMetadata": {
      "byteLimit": 2048000,
      "rowLimit": 10000
     },
     "inputWidgets": {},
     "nuid": "d690b88b-0493-4b61-b64d-1f9bbf987be8",
     "showTitle": false,
     "tableResultSettingsMap": {},
     "title": ""
    }
   },
   "outputs": [],
   "source": [
    "catalog = \"workspace\"\n",
    "schema = \"genai_demo\""
   ]
  },
  {
   "cell_type": "code",
   "execution_count": 0,
   "metadata": {
    "application/vnd.databricks.v1+cell": {
     "cellMetadata": {
      "byteLimit": 2048000,
      "rowLimit": 10000
     },
     "inputWidgets": {},
     "nuid": "a179cfa0-a703-4c00-a3dc-fb6725f30d20",
     "showTitle": false,
     "tableResultSettingsMap": {},
     "title": ""
    }
   },
   "outputs": [],
   "source": [
    "# Parameters\n",
    "n_days = 1\n",
    "freq_mins = 10\n",
    "n_points = int(n_days * 24 * 60 / freq_mins)\n",
    "machine_ids = list(range(1, 48))\n",
    "start_time = datetime.now() - timedelta(days=n_days)\n",
    "\n",
    "# Dataset 1: Normal only\n",
    "table_name = \"sensor_data_normal\"\n",
    "df_normal = generate_sensor_data(start_time, n_points, machine_ids, inject_anomalies=False)\n",
    "spark.createDataFrame(df_normal).write\\\n",
    "    .mode(\"overwrite\").format(\"delta\")\\\n",
    "    .option(\"mergeSchema\", \"true\")\\\n",
    "    .saveAsTable(f\"{catalog}.{schema}.{table_name}\")"
   ]
  },
  {
   "cell_type": "markdown",
   "metadata": {
    "application/vnd.databricks.v1+cell": {
     "cellMetadata": {},
     "inputWidgets": {},
     "nuid": "39c468b9-f86b-4b4e-9b11-be58631cf7b1",
     "showTitle": false,
     "tableResultSettingsMap": {},
     "title": ""
    }
   },
   "source": [
    "## Simulate test data "
   ]
  },
  {
   "cell_type": "code",
   "execution_count": 0,
   "metadata": {
    "application/vnd.databricks.v1+cell": {
     "cellMetadata": {
      "byteLimit": 2048000,
      "rowLimit": 10000
     },
     "inputWidgets": {},
     "nuid": "10f96ecf-00b8-4000-a07a-ba816a96ba5b",
     "showTitle": false,
     "tableResultSettingsMap": {},
     "title": ""
    }
   },
   "outputs": [],
   "source": [
    "n_days = 1\n",
    "n_points = int(n_days * 24 * 60 / 5)\n",
    "machine_ids = list(range(1, 6))\n",
    "start_time = datetime.now()\n",
    "\n",
    "# Dataset 2: with anomalies\n",
    "table_name = \"sensor_data_test\"\n",
    "df_test = generate_sensor_data(start_time, n_points, machine_ids, anomaly_chance=0.01, inject_anomalies=True)\n",
    "spark.createDataFrame(df_test).write\\\n",
    "    .mode(\"overwrite\").format(\"delta\")\\\n",
    "    .option(\"mergeSchema\", \"true\")\\\n",
    "    .saveAsTable(f\"{catalog}.{schema}.{table_name}\")"
   ]
  }
 ],
 "metadata": {
  "application/vnd.databricks.v1+notebook": {
   "computePreferences": null,
   "dashboards": [],
   "environmentMetadata": {
    "base_environment": "",
    "environment_version": "2"
   },
   "inputWidgetPreferences": null,
   "language": "python",
   "notebookMetadata": {
    "mostRecentlyExecutedCommandWithImplicitDF": {
     "commandId": 8686846369301253,
     "dataframes": [
      "_sqldf"
     ]
    },
    "pythonIndentUnit": 4
   },
   "notebookName": "01_data_simulation",
   "widgets": {}
  },
  "language_info": {
   "name": "python"
  }
 },
 "nbformat": 4,
 "nbformat_minor": 0
}
