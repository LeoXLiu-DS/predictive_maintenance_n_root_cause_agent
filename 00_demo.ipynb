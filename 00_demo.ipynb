{
 "cells": [
  {
   "cell_type": "code",
   "execution_count": 0,
   "metadata": {
    "application/vnd.databricks.v1+cell": {
     "cellMetadata": {
      "byteLimit": 2048000,
      "rowLimit": 10000
     },
     "inputWidgets": {},
     "nuid": "ba63ab14-046a-44e1-a619-ea2472d79468",
     "showTitle": false,
     "tableResultSettingsMap": {},
     "title": ""
    }
   },
   "outputs": [],
   "source": [
    "%pip install -U langchain langgraph databricks-sdk databricks-vectorsearch\n",
    "%pip install databricks-sdk[openai]\n",
    "%pip install -U databricks-agents>=0.16.0 mlflow>=2.20.2 databricks-langchain databricks-openai\n",
    "dbutils.library.restartPython()"
   ]
  },
  {
   "cell_type": "code",
   "execution_count": 0,
   "metadata": {
    "application/vnd.databricks.v1+cell": {
     "cellMetadata": {
      "byteLimit": 2048000,
      "rowLimit": 10000
     },
     "inputWidgets": {},
     "nuid": "64f9e210-6cac-43ab-956d-07299a513ca2",
     "showTitle": false,
     "tableResultSettingsMap": {},
     "title": ""
    }
   },
   "outputs": [],
   "source": [
    "import mlflow\n",
    "from datetime import datetime\n",
    "import json \n",
    "\n",
    "disable_notice=True\n",
    "\n",
    "CATALOG = \"workspace\"\n",
    "SCHEMA = \"genai_demo\""
   ]
  },
  {
   "cell_type": "markdown",
   "metadata": {
    "application/vnd.databricks.v1+cell": {
     "cellMetadata": {
      "byteLimit": 2048000,
      "rowLimit": 10000
     },
     "inputWidgets": {},
     "nuid": "a1958fb9-959c-4611-873f-b82ae96f377e",
     "showTitle": false,
     "tableResultSettingsMap": {},
     "title": ""
    }
   },
   "source": [
    "## Flow-based PM Agent"
   ]
  },
  {
   "cell_type": "code",
   "execution_count": 0,
   "metadata": {
    "application/vnd.databricks.v1+cell": {
     "cellMetadata": {
      "byteLimit": 2048000,
      "rowLimit": 10000
     },
     "inputWidgets": {},
     "nuid": "b0682ceb-a31f-41f8-90e6-12052dac1dc5",
     "showTitle": false,
     "tableResultSettingsMap": {},
     "title": ""
    }
   },
   "outputs": [],
   "source": [
    "# load the registered agent\n",
    "FLOW_AGENT_NAME = 'flow_pm_agent'\n",
    "FLOW_AGENT_VERSION = 1\n",
    "FLOW_AGENT_NAME_FULL = f\"models:/{CATALOG}.{SCHEMA}.{FLOW_AGENT_NAME}/{FLOW_AGENT_VERSION}\"\n",
    "flow_agent = mlflow.pyfunc.load_model(FLOW_AGENT_NAME_FULL)"
   ]
  },
  {
   "cell_type": "markdown",
   "metadata": {
    "application/vnd.databricks.v1+cell": {
     "cellMetadata": {},
     "inputWidgets": {},
     "nuid": "41ca8c05-33e2-4142-9717-660003c3533b",
     "showTitle": false,
     "tableResultSettingsMap": {},
     "title": ""
    }
   },
   "source": [
    "Machine's normal status:\n",
    "- Temperature: 20 ~ 35\n",
    "- Vibration: 1.0 ~ 2.0\n",
    "- Pressure: 30 ~ 35"
   ]
  },
  {
   "cell_type": "markdown",
   "metadata": {
    "application/vnd.databricks.v1+cell": {
     "cellMetadata": {},
     "inputWidgets": {},
     "nuid": "b95bf5c4-00f8-4a0f-8382-855e0eeb9c01",
     "showTitle": false,
     "tableResultSettingsMap": {},
     "title": ""
    }
   },
   "source": [
    "### Normal Sensor Data"
   ]
  },
  {
   "cell_type": "code",
   "execution_count": 0,
   "metadata": {
    "application/vnd.databricks.v1+cell": {
     "cellMetadata": {
      "byteLimit": 2048000,
      "rowLimit": 10000
     },
     "inputWidgets": {},
     "nuid": "a28511d9-f285-4a97-a337-b7aa05ef5e2e",
     "showTitle": false,
     "tableResultSettingsMap": {},
     "title": ""
    }
   },
   "outputs": [],
   "source": [
    "# Normal Sensor Data\n",
    "sensor_data_normal = {\n",
    "    \"timestamp\": str(datetime.now()), \n",
    "    \"machine_id\": 1, \n",
    "    \"temperature\": 20, \n",
    "    \"vibration\": 1.5, \n",
    "    \"pressure\": 30\n",
    "    }\n",
    "\n",
    "request = {\"messages\": [{\"role\": \"user\", \"content\": json.dumps(sensor_data_normal)}]}\n",
    "response = flow_agent.predict(request)\n",
    "print(response['messages'][0]['content'])\n"
   ]
  },
  {
   "cell_type": "markdown",
   "metadata": {
    "application/vnd.databricks.v1+cell": {
     "cellMetadata": {},
     "inputWidgets": {},
     "nuid": "d85ca48b-80b0-4d86-ba46-1c8b0a24ce77",
     "showTitle": false,
     "tableResultSettingsMap": {},
     "title": ""
    }
   },
   "source": [
    "### Anomalous Sensor Data"
   ]
  },
  {
   "cell_type": "code",
   "execution_count": 0,
   "metadata": {
    "application/vnd.databricks.v1+cell": {
     "cellMetadata": {
      "byteLimit": 2048000,
      "rowLimit": 10000
     },
     "inputWidgets": {},
     "nuid": "842778f9-4130-4b66-a9be-b913293caf0c",
     "showTitle": false,
     "tableResultSettingsMap": {},
     "title": ""
    }
   },
   "outputs": [],
   "source": [
    "# Anomaly Sensor Data\n",
    "sensor_data_anomaly = {\n",
    "    \"timestamp\": str(datetime.now()), \n",
    "    \"machine_id\": 1, \n",
    "    \"temperature\": 45, \n",
    "    \"vibration\": 3.5, \n",
    "    \"pressure\": 25\n",
    "    }\n",
    "\n",
    "request = {\"messages\": [{\"role\": \"user\", \"content\": json.dumps(sensor_data_anomaly)}]}\n",
    "response = flow_agent.predict(request)\n",
    "print(response['messages'][0]['content'])"
   ]
  },
  {
   "cell_type": "markdown",
   "metadata": {
    "application/vnd.databricks.v1+cell": {
     "cellMetadata": {},
     "inputWidgets": {},
     "nuid": "fb585c4f-271d-4a11-86fc-eb356546b25c",
     "showTitle": false,
     "tableResultSettingsMap": {},
     "title": ""
    }
   },
   "source": [
    "## Conversational PM Agent"
   ]
  },
  {
   "cell_type": "code",
   "execution_count": 0,
   "metadata": {
    "application/vnd.databricks.v1+cell": {
     "cellMetadata": {
      "byteLimit": 2048000,
      "rowLimit": 10000
     },
     "inputWidgets": {},
     "nuid": "8ae149af-0c20-43b4-8d98-2630aec3cb4b",
     "showTitle": false,
     "tableResultSettingsMap": {},
     "title": ""
    }
   },
   "outputs": [],
   "source": [
    "# load the registered agent\n",
    "CHAT_AGENT_NAME = 'chat_pm_agent'\n",
    "CHAT_AGENT_VERSION = 1\n",
    "CHAT_AGENT_NAME_FULL = f\"models:/{CATALOG}.{SCHEMA}.{CHAT_AGENT_NAME}/{CHAT_AGENT_VERSION}\"\n",
    "chat_agent = mlflow.pyfunc.load_model(CHAT_AGENT_NAME_FULL)"
   ]
  },
  {
   "cell_type": "markdown",
   "metadata": {
    "application/vnd.databricks.v1+cell": {
     "cellMetadata": {},
     "inputWidgets": {},
     "nuid": "c4fd0dd2-a890-482b-a66f-41b5e2cc3eed",
     "showTitle": false,
     "tableResultSettingsMap": {},
     "title": ""
    }
   },
   "source": [
    "### 1. General Query"
   ]
  },
  {
   "cell_type": "code",
   "execution_count": 0,
   "metadata": {
    "application/vnd.databricks.v1+cell": {
     "cellMetadata": {
      "byteLimit": 2048000,
      "rowLimit": 10000
     },
     "inputWidgets": {},
     "nuid": "0ecabdde-ac67-4866-93f0-643bbf7f34e7",
     "showTitle": false,
     "tableResultSettingsMap": {},
     "title": ""
    }
   },
   "outputs": [],
   "source": [
    "query = \"Hello, what can you assist?\"\n",
    "response = chat_agent.predict({\"messages\":[{\"role\": \"user\", \"content\": query}]})\n",
    "print(response['messages'][-1]['content'])"
   ]
  },
  {
   "cell_type": "markdown",
   "metadata": {
    "application/vnd.databricks.v1+cell": {
     "cellMetadata": {},
     "inputWidgets": {},
     "nuid": "0e9b1b43-51a0-4fb0-a1a1-29bdb8dcf607",
     "showTitle": false,
     "tableResultSettingsMap": {},
     "title": ""
    }
   },
   "source": [
    "### 2. Free-form Maintenance Query "
   ]
  },
  {
   "cell_type": "code",
   "execution_count": 0,
   "metadata": {
    "application/vnd.databricks.v1+cell": {
     "cellMetadata": {
      "byteLimit": 2048000,
      "rowLimit": 10000
     },
     "inputWidgets": {},
     "nuid": "2644aeda-5a20-4250-9a1a-d40c95cd8dfb",
     "showTitle": false,
     "tableResultSettingsMap": {},
     "title": ""
    }
   },
   "outputs": [],
   "source": [
    "query = \"The machine seems to be running hot. Could you look through the manuals to identify possible causes and suggest a solution?\"\n",
    "response = chat_agent.predict({\"messages\":[{\"role\": \"user\", \"content\": query}]})\n",
    "print(response['messages'][-1]['content'])"
   ]
  },
  {
   "cell_type": "markdown",
   "metadata": {
    "application/vnd.databricks.v1+cell": {
     "cellMetadata": {},
     "inputWidgets": {},
     "nuid": "62443d2d-e096-445d-add0-25e74e63fdcf",
     "showTitle": false,
     "tableResultSettingsMap": {},
     "title": ""
    }
   },
   "source": [
    "### 3. Query Containing Sensor Data (Normal)"
   ]
  },
  {
   "cell_type": "code",
   "execution_count": 0,
   "metadata": {
    "application/vnd.databricks.v1+cell": {
     "cellMetadata": {
      "byteLimit": 2048000,
      "rowLimit": 10000
     },
     "inputWidgets": {},
     "nuid": "6b4b5eb9-37a6-46ee-be2b-014078004935",
     "showTitle": false,
     "tableResultSettingsMap": {},
     "title": ""
    }
   },
   "outputs": [],
   "source": [
    "query = \"The sensor readings from another machine are: temperature at 20°C, vibration at 1.5mm/s, and pressure at 30 PSI. Is it functioning as expected?\"\n",
    "response = chat_agent.predict({\"messages\":[{\"role\": \"user\", \"content\": query}]})\n",
    "print(response['messages'][-1]['content'])"
   ]
  },
  {
   "cell_type": "markdown",
   "metadata": {
    "application/vnd.databricks.v1+cell": {
     "cellMetadata": {},
     "inputWidgets": {},
     "nuid": "84613297-5d0b-444c-8be6-1494449e7be5",
     "showTitle": false,
     "tableResultSettingsMap": {},
     "title": ""
    }
   },
   "source": [
    "### 4. Query with Sensor Data (Anomalous)"
   ]
  },
  {
   "cell_type": "code",
   "execution_count": 0,
   "metadata": {
    "application/vnd.databricks.v1+cell": {
     "cellMetadata": {
      "byteLimit": 2048000,
      "rowLimit": 10000
     },
     "inputWidgets": {},
     "nuid": "7adf0b3e-06de-4b34-ace5-71ee41f39a55",
     "showTitle": false,
     "tableResultSettingsMap": {},
     "title": ""
    }
   },
   "outputs": [],
   "source": [
    "query = \"The most recent sensor data from a different machine shows a temperature of 45°C, a vibration level of 3.5mm/s, and a pressure reading of 25 PSI. What do you think?\"\n",
    "response = chat_agent.predict({\"messages\":[{\"role\": \"user\", \"content\": query}]})\n",
    "print(response['messages'][-1]['content'])"
   ]
  },
  {
   "cell_type": "markdown",
   "metadata": {
    "application/vnd.databricks.v1+cell": {
     "cellMetadata": {},
     "inputWidgets": {},
     "nuid": "00b20adc-1e6a-4998-9f46-2c19075f5875",
     "showTitle": false,
     "tableResultSettingsMap": {},
     "title": ""
    }
   },
   "source": [
    "### 5. Follow-up Request for RCA and Resolution Suggestion"
   ]
  },
  {
   "cell_type": "code",
   "execution_count": 0,
   "metadata": {
    "application/vnd.databricks.v1+cell": {
     "cellMetadata": {
      "byteLimit": 2048000,
      "rowLimit": 10000
     },
     "inputWidgets": {},
     "nuid": "4e8bf436-dcbd-4b21-b046-d208b639560d",
     "showTitle": false,
     "tableResultSettingsMap": {},
     "title": ""
    }
   },
   "outputs": [],
   "source": [
    "query = \"Yes, proceed with a root cause analysis (RCA) and recommending appropriate resolutions for the issue\"\n",
    "response = chat_agent.predict({\"messages\":[{\"role\": \"user\", \"content\": query}]})\n",
    "print(response['messages'][-1]['content'])"
   ]
  },
  {
   "cell_type": "markdown",
   "metadata": {
    "application/vnd.databricks.v1+cell": {
     "cellMetadata": {},
     "inputWidgets": {},
     "nuid": "155f609d-1426-4562-98f4-63854bfb42f8",
     "showTitle": false,
     "tableResultSettingsMap": {},
     "title": ""
    }
   },
   "source": [
    "### All History"
   ]
  },
  {
   "cell_type": "code",
   "execution_count": 0,
   "metadata": {
    "application/vnd.databricks.v1+cell": {
     "cellMetadata": {
      "byteLimit": 2048000,
      "rowLimit": 10000
     },
     "inputWidgets": {},
     "nuid": "952504be-87a0-494b-99c1-42bd17adcf0a",
     "showTitle": false,
     "tableResultSettingsMap": {},
     "title": ""
    }
   },
   "outputs": [],
   "source": [
    "# Print the entire chat history\n",
    "for message in response['messages']:\n",
    "    role = message['role']\n",
    "    content = message['content']\n",
    "    print(f\"=================================={role}==================================\")\n",
    "    print(content)"
   ]
  },
  {
   "cell_type": "code",
   "execution_count": 0,
   "metadata": {
    "application/vnd.databricks.v1+cell": {
     "cellMetadata": {},
     "inputWidgets": {},
     "nuid": "5d51e9d3-42ca-4885-b69c-39aaded498bf",
     "showTitle": false,
     "tableResultSettingsMap": {},
     "title": ""
    }
   },
   "outputs": [],
   "source": []
  }
 ],
 "metadata": {
  "application/vnd.databricks.v1+notebook": {
   "computePreferences": null,
   "dashboards": [],
   "environmentMetadata": {
    "base_environment": "",
    "environment_version": "2"
   },
   "inputWidgetPreferences": null,
   "language": "python",
   "notebookMetadata": {
    "pythonIndentUnit": 4
   },
   "notebookName": "00_demo",
   "widgets": {}
  },
  "language_info": {
   "name": "python"
  }
 },
 "nbformat": 4,
 "nbformat_minor": 0
}
