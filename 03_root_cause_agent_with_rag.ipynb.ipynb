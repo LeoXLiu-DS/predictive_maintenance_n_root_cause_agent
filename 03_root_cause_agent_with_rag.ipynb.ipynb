{
 "cells": [
  {
   "cell_type": "markdown",
   "metadata": {
    "application/vnd.databricks.v1+cell": {
     "cellMetadata": {},
     "inputWidgets": {},
     "nuid": "ca1ba4c0-1f6c-4a9f-a388-61d6f6c580f5",
     "showTitle": false,
     "tableResultSettingsMap": {},
     "title": ""
    }
   },
   "source": [
    "## Prepare maintenance documents"
   ]
  },
  {
   "cell_type": "code",
   "execution_count": 0,
   "metadata": {
    "application/vnd.databricks.v1+cell": {
     "cellMetadata": {
      "byteLimit": 2048000,
      "rowLimit": 10000
     },
     "inputWidgets": {},
     "nuid": "1c7ae733-3a52-457e-a817-e56d4aff2a35",
     "showTitle": false,
     "tableResultSettingsMap": {},
     "title": ""
    }
   },
   "outputs": [],
   "source": [
    "manual_bearings = \"\"\"Title: Motor Bearing Inspection and Replacement Guide\n",
    "\n",
    "1. Purpose:\n",
    "   Bearings should be inspected when vibration exceeds 3.5 mm/s or temperature rises above 55°C.\n",
    "\n",
    "2. Symptoms of bearing wear:\n",
    "   - Increased vibration or noise\n",
    "   - Abnormal heat near shaft\n",
    "   - Reduced RPMs or power draw increase\n",
    "\n",
    "3. Recommended Actions:\n",
    "   - Shut down equipment safely\n",
    "   - Use IR thermometer to confirm localized heating\n",
    "   - Check for play in shaft coupling\n",
    "   - Replace both drive-end and non-drive-end bearings\n",
    "   - Log bearing condition in CMMS after replacement\"\"\"\n",
    "\n",
    "\n",
    "manual_overheating = \"\"\"Title: Troubleshooting Overheating in Electric Motors\n",
    "\n",
    "1. Common Causes:\n",
    "   - Blocked ventilation or dirty cooling fans\n",
    "   - Electrical overload\n",
    "   - Shaft misalignment\n",
    "   - Lubrication failure (dry bearing)\n",
    "\n",
    "2. Indicators:\n",
    "   - Temperature exceeding 60°C during normal load\n",
    "   - Motor casing warm to touch or smelling of burnt insulation\n",
    "   - Vibrations > 3.2 mm/s\n",
    "\n",
    "3. Recommended Actions:\n",
    "   - Clean cooling ducts and check fan blades\n",
    "   - Verify motor current vs rated amps\n",
    "   - Inspect for shaft alignment using dial indicators\n",
    "   - Relubricate bearings or check for grease breakdown\"\"\"\n",
    "\n",
    "\n",
    "manual_presure_drop = \"\"\"Title: Pressure Drop in Hydraulic Systems\n",
    "\n",
    "1. Normal operating pressure: 30–35 PSI\n",
    "2. Warning level: < 28 PSI\n",
    "3. Possible Causes:\n",
    "   - Internal leak in actuator or valve\n",
    "   - Blockage in fluid line\n",
    "   - Air entrapment or low fluid level\n",
    "\n",
    "4. Fix Procedures:\n",
    "   - Check reservoir level and refill if low\n",
    "   - Bleed air from the system using purge valves\n",
    "   - Inspect filters and lines for clogs or wear\n",
    "   - Run system diagnostics to isolate fault location\"\"\"\n",
    "\n",
    "\n",
    "# Upload manually using FileStore, or:\n",
    "dbutils.fs.put(\"/FileStore/maintenance_docs/manual_bearings.txt\", manual_bearings, True)\n",
    "dbutils.fs.put(\"/FileStore/maintenance_docs/manual_overheating.txt\", manual_overheating, True)\n",
    "dbutils.fs.put(\"/FileStore/maintenance_docs/manual_pressure_drop.txt\", manual_presure_drop, True)"
   ]
  },
  {
   "cell_type": "code",
   "execution_count": 0,
   "metadata": {
    "application/vnd.databricks.v1+cell": {
     "cellMetadata": {
      "byteLimit": 2048000,
      "rowLimit": 10000
     },
     "inputWidgets": {},
     "nuid": "e05c09ab-d45d-4739-8592-70d59ae52b13",
     "showTitle": false,
     "tableResultSettingsMap": {},
     "title": ""
    }
   },
   "outputs": [],
   "source": [
    "%pip install langchain openai tiktoken python-dotenv\n",
    "%pip install -qU langchain-openai\n",
    "%pip install -U langchain-community"
   ]
  },
  {
   "cell_type": "code",
   "execution_count": 0,
   "metadata": {
    "application/vnd.databricks.v1+cell": {
     "cellMetadata": {
      "byteLimit": 2048000,
      "rowLimit": 10000
     },
     "inputWidgets": {},
     "nuid": "9054daf6-1db1-4953-8d0b-91294835a8ed",
     "showTitle": false,
     "tableResultSettingsMap": {},
     "title": ""
    }
   },
   "outputs": [],
   "source": [
    "%restart_python"
   ]
  },
  {
   "cell_type": "code",
   "execution_count": 0,
   "metadata": {
    "application/vnd.databricks.v1+cell": {
     "cellMetadata": {
      "byteLimit": 2048000,
      "rowLimit": 10000
     },
     "inputWidgets": {},
     "nuid": "53c34326-856a-4dec-95a5-f250996e8391",
     "showTitle": false,
     "tableResultSettingsMap": {},
     "title": ""
    }
   },
   "outputs": [],
   "source": [
    "%pip install numpy==1.26.4 --force-reinstall"
   ]
  },
  {
   "cell_type": "markdown",
   "metadata": {
    "application/vnd.databricks.v1+cell": {
     "cellMetadata": {},
     "inputWidgets": {},
     "nuid": "7ce0f5d1-8185-40ad-a193-966e8a99dee4",
     "showTitle": false,
     "tableResultSettingsMap": {},
     "title": ""
    }
   },
   "source": [
    "## Load, Chunk and Embedded the Documents"
   ]
  },
  {
   "cell_type": "code",
   "execution_count": 0,
   "metadata": {
    "application/vnd.databricks.v1+cell": {
     "cellMetadata": {
      "byteLimit": 2048000,
      "rowLimit": 10000
     },
     "inputWidgets": {},
     "nuid": "b9d5d3a6-0f68-4b27-9e1c-5d8d5052043d",
     "showTitle": false,
     "tableResultSettingsMap": {},
     "title": ""
    }
   },
   "outputs": [],
   "source": [
    "# from langchain.document_loaders import TextLoader\n",
    "from langchain.text_splitter import RecursiveCharacterTextSplitter\n",
    "# from langchain.embeddings.openai import OpenAIEmbeddings\n",
    "from langchain_openai import AzureOpenAIEmbeddings\n",
    "from langchain_community.document_loaders.text import TextLoader\n",
    "import uuid\n",
    "from pathlib import Path\n",
    "\n",
    "import os\n",
    "from dotenv import load_dotenv\n",
    "load_dotenv()"
   ]
  },
  {
   "cell_type": "code",
   "execution_count": 0,
   "metadata": {
    "application/vnd.databricks.v1+cell": {
     "cellMetadata": {
      "byteLimit": 2048000,
      "rowLimit": 10000
     },
     "inputWidgets": {},
     "nuid": "1eb07f33-e81d-474e-9fc5-3f4b277bb2d2",
     "showTitle": false,
     "tableResultSettingsMap": {},
     "title": ""
    }
   },
   "outputs": [],
   "source": [
    "# Set up OpenAI Configures\n",
    "AZURE_OPENAI_API_KEY = os.getenv(\"AZURE_OPENAI_API_KEY\")\n",
    "AZURE_OPENAI_ENDPOINT = os.getenv(\"AZURE_OPENAI_ENDPOINT\")\n",
    "AZURE_OPENAI_EMBEDDING_DEPLOYMENT = os.getenv(\"AZURE_OPENAI_EMBEDDING_DEPLOYMENT\")\n",
    "AZURE_OPENAI_API_VERSION = os.getenv(\"AZURE_OPENAI_API_VERSION\")"
   ]
  },
  {
   "cell_type": "code",
   "execution_count": 0,
   "metadata": {
    "application/vnd.databricks.v1+cell": {
     "cellMetadata": {
      "byteLimit": 2048000,
      "rowLimit": 10000
     },
     "inputWidgets": {},
     "nuid": "1eb0f460-5e63-4f9f-a189-6df1ae52cd90",
     "showTitle": false,
     "tableResultSettingsMap": {},
     "title": ""
    }
   },
   "outputs": [],
   "source": [
    "# Create Embedding Model\n",
    "embedding_model = AzureOpenAIEmbeddings(\n",
    "    model=AZURE_OPENAI_EMBEDDING_DEPLOYMENT,\n",
    "    azure_endpoint=AZURE_OPENAI_ENDPOINT,\n",
    "    api_key=AZURE_OPENAI_API_KEY,\n",
    "    openai_api_version=AZURE_OPENAI_API_VERSION\n",
    ")"
   ]
  },
  {
   "cell_type": "code",
   "execution_count": 0,
   "metadata": {
    "application/vnd.databricks.v1+cell": {
     "cellMetadata": {
      "byteLimit": 2048000,
      "rowLimit": 10000
     },
     "inputWidgets": {},
     "nuid": "7f66582c-aa32-4850-ae4d-37b074826430",
     "showTitle": false,
     "tableResultSettingsMap": {},
     "title": ""
    }
   },
   "outputs": [],
   "source": [
    "# Define paths to all manuals\n",
    "manual_dir = \"dbfs:/FileStore/maintenance_docs/\"\n",
    "manual_files = [f.path for f in dbutils.fs.ls(manual_dir) if f.path.endswith(\".txt\")]\n",
    "\n",
    "# Load and chunk all docs\n",
    "splitter = RecursiveCharacterTextSplitter(chunk_size=800, chunk_overlap=50)\n",
    "all_chunks = []\n",
    "\n",
    "for file_path in manual_files:\n",
    "    doc_content = dbutils.fs.head(file_path)\n",
    "    chunks = splitter.split_text(doc_content)\n",
    "    all_chunks.extend(chunks)\n",
    "\n",
    "records = []\n",
    "\n",
    "for chunk in all_chunks:\n",
    "    vector = embedding_model.embed_query(chunk)\n",
    "    records.append((str(uuid.uuid4()), chunk, vector))\n",
    "\n",
    "df_embed = spark.createDataFrame(records, schema=\"id STRING, chunk_text STRING, embedding ARRAY<FLOAT>\")"
   ]
  },
  {
   "cell_type": "code",
   "execution_count": 0,
   "metadata": {
    "application/vnd.databricks.v1+cell": {
     "cellMetadata": {
      "byteLimit": 2048000,
      "rowLimit": 10000
     },
     "inputWidgets": {},
     "nuid": "7bb3d0ff-22c5-4cdb-b96f-8561aaa7d7cf",
     "showTitle": false,
     "tableResultSettingsMap": {},
     "title": ""
    }
   },
   "outputs": [],
   "source": [
    "# Define Unity Catalog table name\n",
    "catalog = \"main\"\n",
    "schema = \"default\"\n",
    "table_name = \"maintenance_docs_chunks\"\n",
    "\n",
    "spark.sql(f\"CREATE SCHEMA IF NOT EXISTS {catalog}.{schema}\")\n",
    "\n",
    "# Save to Delta table\n",
    "df_embed.write.mode(\"overwrite\").saveAsTable(f\"{catalog}.{schema}.{table_name}\")"
   ]
  },
  {
   "cell_type": "markdown",
   "metadata": {
    "application/vnd.databricks.v1+cell": {
     "cellMetadata": {},
     "inputWidgets": {},
     "nuid": "8f39fa43-2e0c-4a32-8629-7113a817cd46",
     "showTitle": false,
     "tableResultSettingsMap": {},
     "title": ""
    }
   },
   "source": [
    "## Create Vector Index"
   ]
  },
  {
   "cell_type": "code",
   "execution_count": 0,
   "metadata": {
    "application/vnd.databricks.v1+cell": {
     "cellMetadata": {
      "byteLimit": 2048000,
      "rowLimit": 10000
     },
     "inputWidgets": {},
     "nuid": "8c58dad7-0451-4517-8e9e-995eed81a5b8",
     "showTitle": false,
     "tableResultSettingsMap": {},
     "title": ""
    }
   },
   "outputs": [],
   "source": [
    "%pip install databricks-vectorsearch databricks-langchain openai\n",
    "dbutils.library.restartPython()"
   ]
  },
  {
   "cell_type": "markdown",
   "metadata": {
    "application/vnd.databricks.v1+cell": {
     "cellMetadata": {
      "byteLimit": 2048000,
      "rowLimit": 10000
     },
     "inputWidgets": {},
     "nuid": "ae8a3919-3c8a-49f8-a863-ff4c40fcebd5",
     "showTitle": false,
     "tableResultSettingsMap": {},
     "title": ""
    }
   },
   "source": [
    "### Create a Vector Search Endpoint"
   ]
  },
  {
   "cell_type": "code",
   "execution_count": 0,
   "metadata": {
    "application/vnd.databricks.v1+cell": {
     "cellMetadata": {
      "byteLimit": 2048000,
      "rowLimit": 10000
     },
     "inputWidgets": {},
     "nuid": "ef3e8fc1-9cbf-43e0-a076-cda40f14fb5f",
     "showTitle": false,
     "tableResultSettingsMap": {},
     "title": ""
    }
   },
   "outputs": [],
   "source": [
    "from databricks.vector_search.client import VectorSearchClient\n",
    "\n",
    "client = VectorSearchClient()\n",
    "endpoint_name = \"maintenance_endpoint\"\n",
    "\n",
    "# Create endpoint (Standard or Storage Optimized)\n",
    "client.create_endpoint(name=endpoint_name, endpoint_type=\"STANDARD\")\n",
    "client.wait_for_endpoint(name=endpoint_name, verbose=True)\n",
    "print(f\"✅ Endpoint '{endpoint_name}' is ready.\")\n"
   ]
  },
  {
   "cell_type": "markdown",
   "metadata": {
    "application/vnd.databricks.v1+cell": {
     "cellMetadata": {},
     "inputWidgets": {},
     "nuid": "f427ab38-b161-42ef-8ae5-69ab009c068e",
     "showTitle": false,
     "tableResultSettingsMap": {},
     "title": ""
    }
   },
   "source": [
    "### Create a Vector Index"
   ]
  },
  {
   "cell_type": "code",
   "execution_count": 0,
   "metadata": {
    "application/vnd.databricks.v1+cell": {
     "cellMetadata": {
      "byteLimit": 2048000,
      "rowLimit": 10000
     },
     "inputWidgets": {},
     "nuid": "42792c17-e2ce-4fca-833a-b89d284df698",
     "showTitle": false,
     "tableResultSettingsMap": {},
     "title": ""
    }
   },
   "outputs": [],
   "source": [
    "client.create_delta_sync_index(\n",
    "  endpoint_name=endpoint_name,\n",
    "  index_name=\"main.ai_agent.maintenance_docs_index\",\n",
    "  primary_key=\"id\",\n",
    "  source_table_name=\"hive_metastore.ai_agent.maintenance_docs_chunks\",\n",
    "  pipeline_type=\"TRIGGERED\",\n",
    "  embedding_vector_column=\"embedding\",\n",
    "  embedding_dimension=3072\n",
    ")"
   ]
  },
  {
   "cell_type": "code",
   "execution_count": 0,
   "metadata": {
    "application/vnd.databricks.v1+cell": {
     "cellMetadata": {},
     "inputWidgets": {},
     "nuid": "14b213f0-1cb7-4ea4-8c95-2cd91880f49f",
     "showTitle": false,
     "tableResultSettingsMap": {},
     "title": ""
    }
   },
   "outputs": [],
   "source": []
  }
 ],
 "metadata": {
  "application/vnd.databricks.v1+notebook": {
   "computePreferences": null,
   "dashboards": [],
   "environmentMetadata": {
    "base_environment": "",
    "environment_version": "2"
   },
   "inputWidgetPreferences": null,
   "language": "python",
   "notebookMetadata": {
    "mostRecentlyExecutedCommandWithImplicitDF": {
     "commandId": 5735723611426898,
     "dataframes": [
      "_sqldf"
     ]
    },
    "pythonIndentUnit": 4
   },
   "notebookName": "03_root_cause_agent_with_rag.ipynb",
   "widgets": {}
  },
  "language_info": {
   "name": "python"
  }
 },
 "nbformat": 4,
 "nbformat_minor": 0
}
