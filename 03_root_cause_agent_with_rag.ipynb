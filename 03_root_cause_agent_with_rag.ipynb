{
 "cells": [
  {
   "cell_type": "markdown",
   "metadata": {
    "application/vnd.databricks.v1+cell": {
     "cellMetadata": {},
     "inputWidgets": {},
     "nuid": "ca1ba4c0-1f6c-4a9f-a388-61d6f6c580f5",
     "showTitle": false,
     "tableResultSettingsMap": {},
     "title": ""
    }
   },
   "source": [
    "## Prepare maintenance documents"
   ]
  },
  {
   "cell_type": "code",
   "execution_count": 0,
   "metadata": {
    "application/vnd.databricks.v1+cell": {
     "cellMetadata": {
      "byteLimit": 2048000,
      "rowLimit": 10000
     },
     "inputWidgets": {},
     "nuid": "1c7ae733-3a52-457e-a817-e56d4aff2a35",
     "showTitle": false,
     "tableResultSettingsMap": {},
     "title": ""
    }
   },
   "outputs": [],
   "source": [
    "manual_bearings = \"\"\"Title: Motor Bearing Inspection and Replacement Guide\n",
    "\n",
    "1. Purpose:\n",
    "   Bearings should be inspected when vibration exceeds 3.5 mm/s or temperature rises above 55°C.\n",
    "\n",
    "2. Symptoms of bearing wear:\n",
    "   - Increased vibration or noise\n",
    "   - Abnormal heat near shaft\n",
    "   - Reduced RPMs or power draw increase\n",
    "\n",
    "3. Recommended Actions:\n",
    "   - Shut down equipment safely\n",
    "   - Use IR thermometer to confirm localized heating\n",
    "   - Check for play in shaft coupling\n",
    "   - Replace both drive-end and non-drive-end bearings\n",
    "   - Log bearing condition in CMMS after replacement\"\"\"\n",
    "\n",
    "\n",
    "manual_overheating = \"\"\"Title: Troubleshooting Overheating in Electric Motors\n",
    "\n",
    "1. Common Causes:\n",
    "   - Blocked ventilation or dirty cooling fans\n",
    "   - Electrical overload\n",
    "   - Shaft misalignment\n",
    "   - Lubrication failure (dry bearing)\n",
    "\n",
    "2. Indicators:\n",
    "   - Temperature exceeding 60°C during normal load\n",
    "   - Motor casing warm to touch or smelling of burnt insulation\n",
    "   - Vibrations > 3.2 mm/s\n",
    "\n",
    "3. Recommended Actions:\n",
    "   - Clean cooling ducts and check fan blades\n",
    "   - Verify motor current vs rated amps\n",
    "   - Inspect for shaft alignment using dial indicators\n",
    "   - Relubricate bearings or check for grease breakdown\"\"\"\n",
    "\n",
    "\n",
    "manual_presure_drop = \"\"\"Title: Pressure Drop in Hydraulic Systems\n",
    "\n",
    "1. Normal operating pressure: 30-35 PSI\n",
    "2. Warning level: < 28 PSI\n",
    "3. Possible Causes:\n",
    "   - Internal leak in actuator or valve\n",
    "   - Blockage in fluid line\n",
    "   - Air entrapment or low fluid level\n",
    "\n",
    "4. Fix Procedures:\n",
    "   - Check reservoir level and refill if low\n",
    "   - Bleed air from the system using purge valves\n",
    "   - Inspect filters and lines for clogs or wear\n",
    "   - Run system diagnostics to isolate fault location\"\"\"\n",
    "\n",
    "\n",
    "manual_lubrication = \"\"\"Title: Lubrication Maintenance Procedures for Rotary Equipment\n",
    "\n",
    "1. Purpose:\n",
    "   Ensure adequate lubrication to prevent mechanical wear and overheating.\n",
    "\n",
    "2. Recommended Lubrication Intervals:\n",
    "   - Bearings: every 500 operational hours\n",
    "   - Gearboxes: every 1,000 operational hours or per OEM spec\n",
    "   - Use high-grade synthetic grease (NLGI 2) for high-speed shafts\n",
    "\n",
    "3. Symptoms of Lubrication Failure:\n",
    "   - Rising temperature (> 55°C) near bearing housing\n",
    "   - Increased noise or vibration (> 3.2 mm/s)\n",
    "   - Visible oil leakage or grease seal failure\n",
    "\n",
    "4. Troubleshooting and Repair:\n",
    "   - Inspect seal condition and replace if faulty\n",
    "   - Clean old grease and apply fresh lubricant uniformly\n",
    "   - Monitor vibration for stabilization after lubrication\n",
    "   - Record in CMMS with grease type and batch number\"\"\"\n",
    "\n",
    "\n",
    "manual_alignment = \"\"\"Title: Shaft Alignment and Coupling Alignment Guide\n",
    "\n",
    "1. Purpose:\n",
    "   Prevent undue stress, vibration, and premature failure due to misalignment.\n",
    "\n",
    "2. Types of Misalignment:\n",
    "   - Angular: shaft angles misaligned (> 0.1°)\n",
    "   - Parallel/Offset: centerline displacement (> 0.1 mm)\n",
    "\n",
    "3. Symptoms:\n",
    "   - Persistent vibration (> 3.5 mm/s)\n",
    "   - Abnormal coupling wear or noise\n",
    "   - Bearing temperatures elevated by > 5°C above baseline\n",
    "\n",
    "4. Alignment Procedure:\n",
    "   - Use dial indicators or laser alignment tools\n",
    "   - Allow machine to cool to idle temperature before measuring\n",
    "   - Adjust motor/drive position until angular + parallel errors < 0.05 mm\n",
    "   - Tighten coupling bolts to OEM torque specs\"\"\"\n",
    "\n",
    "\n",
    "manual_electical_inspection = \"\"\"Title: Electrical Inspection Procedures for AC Motors\n",
    "\n",
    "1. Visual Inspection:\n",
    "   - Check stator windings for discoloration or insulation damage\n",
    "   - Ensure proper grounding and tight terminal connections\n",
    "\n",
    "2. Electrical Testing:\n",
    "   - Use megohmmeter to test insulation resistance (> 1 MΩ)\n",
    "   - Measure line-to-line and line-to-neutral voltages; allow < 5% imbalance\n",
    "\n",
    "3. Symptoms of Electrical Fault:\n",
    "   - Excess heat (> 60°C) at casing or terminal box\n",
    "   - Erratic motor current, voltage spikes, or tripping\n",
    "   - Burning smell or smoke traces\n",
    "\n",
    "4. Recommended Actions:\n",
    "   - De-energize and allow cooling before opening terminal box\n",
    "   - Replace damaged windings or insulation immediately\n",
    "   - Balance power supply and check drive parameters\n",
    "   - Document meter readings and corrective action taken\"\"\""
   ]
  },
  {
   "cell_type": "code",
   "execution_count": 0,
   "metadata": {
    "application/vnd.databricks.v1+cell": {
     "cellMetadata": {
      "byteLimit": 2048000,
      "rowLimit": 10000
     },
     "inputWidgets": {},
     "nuid": "e05c09ab-d45d-4739-8592-70d59ae52b13",
     "showTitle": false,
     "tableResultSettingsMap": {},
     "title": ""
    }
   },
   "outputs": [],
   "source": [
    "%pip install databricks-vectorsearch databricks-langchain langchain-community databricks-sdk\n",
    "dbutils.library.restartPython()\n"
   ]
  },
  {
   "cell_type": "markdown",
   "metadata": {
    "application/vnd.databricks.v1+cell": {
     "cellMetadata": {},
     "inputWidgets": {},
     "nuid": "7ce0f5d1-8185-40ad-a193-966e8a99dee4",
     "showTitle": false,
     "tableResultSettingsMap": {},
     "title": ""
    }
   },
   "source": [
    "## Load and Chunk the Documents"
   ]
  },
  {
   "cell_type": "code",
   "execution_count": 0,
   "metadata": {
    "application/vnd.databricks.v1+cell": {
     "cellMetadata": {
      "byteLimit": 2048000,
      "rowLimit": 10000
     },
     "inputWidgets": {},
     "nuid": "6c472214-2051-482a-ac64-67eb389140e5",
     "showTitle": false,
     "tableResultSettingsMap": {},
     "title": ""
    }
   },
   "outputs": [],
   "source": [
    "from langchain.text_splitter import RecursiveCharacterTextSplitter\n",
    "from databricks.vector_search.client import VectorSearchClient\n",
    "import uuid"
   ]
  },
  {
   "cell_type": "code",
   "execution_count": 0,
   "metadata": {
    "application/vnd.databricks.v1+cell": {
     "cellMetadata": {
      "byteLimit": 2048000,
      "rowLimit": 10000
     },
     "inputWidgets": {},
     "nuid": "b9d5d3a6-0f68-4b27-9e1c-5d8d5052043d",
     "showTitle": false,
     "tableResultSettingsMap": {},
     "title": ""
    }
   },
   "outputs": [],
   "source": [
    "docs = [manual_bearings, manual_overheating, manual_presure_drop]\n",
    "splitter = RecursiveCharacterTextSplitter(chunk_size=800, chunk_overlap=50)\n",
    "\n",
    "chunks = []\n",
    "for doc in docs:\n",
    "  chunks.extend(splitter.split_text(doc))\n",
    "\n",
    "records = [(str(uuid.uuid4()), chunk) for chunk in chunks]\n",
    "df_records = spark.createDataFrame(records, schema=\"id STRING, chunk_text STRING\")"
   ]
  },
  {
   "cell_type": "code",
   "execution_count": 0,
   "metadata": {
    "application/vnd.databricks.v1+cell": {
     "cellMetadata": {
      "byteLimit": 2048000,
      "rowLimit": 10000
     },
     "inputWidgets": {},
     "nuid": "88c58669-c72f-4fc7-8b62-b9ec4617fba1",
     "showTitle": false,
     "tableResultSettingsMap": {},
     "title": ""
    }
   },
   "outputs": [],
   "source": [
    "# Define Unity Catalog table name\n",
    "catalog = \"workspace\"\n",
    "schema = \"genai_demo\"\n",
    "table_name = \"maintenance_docs_chunks\"\n",
    "\n",
    "spark.sql(f\"CREATE SCHEMA IF NOT EXISTS {catalog}.{schema}\")\n",
    "\n",
    "# Save to Delta table\n",
    "df_records.write.mode(\"overwrite\").saveAsTable(f\"{catalog}.{schema}.{table_name}\")"
   ]
  },
  {
   "cell_type": "markdown",
   "metadata": {
    "application/vnd.databricks.v1+cell": {
     "cellMetadata": {},
     "inputWidgets": {},
     "nuid": "8f39fa43-2e0c-4a32-8629-7113a817cd46",
     "showTitle": false,
     "tableResultSettingsMap": {},
     "title": ""
    }
   },
   "source": [
    "## Create a Delta Sync Vector Index"
   ]
  },
  {
   "cell_type": "markdown",
   "metadata": {
    "application/vnd.databricks.v1+cell": {
     "cellMetadata": {},
     "inputWidgets": {},
     "nuid": "ae8a3919-3c8a-49f8-a863-ff4c40fcebd5",
     "showTitle": false,
     "tableResultSettingsMap": {},
     "title": ""
    }
   },
   "source": [
    "### Create a Vector Search Endpoint"
   ]
  },
  {
   "cell_type": "code",
   "execution_count": 0,
   "metadata": {
    "application/vnd.databricks.v1+cell": {
     "cellMetadata": {
      "byteLimit": 2048000,
      "rowLimit": 10000
     },
     "inputWidgets": {},
     "nuid": "ef3e8fc1-9cbf-43e0-a076-cda40f14fb5f",
     "showTitle": false,
     "tableResultSettingsMap": {},
     "title": ""
    }
   },
   "outputs": [],
   "source": [
    "from databricks.vector_search.client import VectorSearchClient\n",
    "\n",
    "client = VectorSearchClient()\n",
    "endpoint_name = \"maintenance_endpoint\"\n",
    "\n",
    "# Create endpoint (Standard or Storage Optimized)\n",
    "client.create_endpoint(name=endpoint_name, endpoint_type=\"STANDARD\")\n",
    "client.wait_for_endpoint(name=endpoint_name, verbose=True)\n",
    "print(f\"✅ Endpoint '{endpoint_name}' is ready.\")\n"
   ]
  },
  {
   "cell_type": "markdown",
   "metadata": {
    "application/vnd.databricks.v1+cell": {
     "cellMetadata": {},
     "inputWidgets": {},
     "nuid": "f427ab38-b161-42ef-8ae5-69ab009c068e",
     "showTitle": false,
     "tableResultSettingsMap": {},
     "title": ""
    }
   },
   "source": [
    "### Create a Vector Index"
   ]
  },
  {
   "cell_type": "code",
   "execution_count": 0,
   "metadata": {
    "application/vnd.databricks.v1+cell": {
     "cellMetadata": {
      "byteLimit": 2048000,
      "rowLimit": 10000
     },
     "inputWidgets": {},
     "nuid": "522c7c7a-7014-4197-9dbe-d62f976a154e",
     "showTitle": false,
     "tableResultSettingsMap": {},
     "title": ""
    }
   },
   "outputs": [],
   "source": [
    "spark.sql(\"\"\"\n",
    "ALTER TABLE workspace.genai_demo.maintenance_docs_chunks\n",
    "SET TBLPROPERTIES (delta.enableChangeDataFeed = true)\n",
    "\"\"\")"
   ]
  },
  {
   "cell_type": "code",
   "execution_count": 0,
   "metadata": {
    "application/vnd.databricks.v1+cell": {
     "cellMetadata": {
      "byteLimit": 2048000,
      "rowLimit": 10000
     },
     "inputWidgets": {},
     "nuid": "42792c17-e2ce-4fca-833a-b89d284df698",
     "showTitle": false,
     "tableResultSettingsMap": {},
     "title": ""
    }
   },
   "outputs": [],
   "source": [
    "client = VectorSearchClient()\n",
    "\n",
    "source_table_name = \"workspace.genai_demo.maintenance_docs_chunks\"\n",
    "index_name = \"workspace.genai_demo.maintenance_docs_index\"\n",
    "\n",
    "index = client.create_delta_sync_index(\n",
    "  endpoint_name=endpoint_name,\n",
    "  source_table_name=source_table_name,\n",
    "  index_name=index_name,\n",
    "  pipeline_type=\"TRIGGERED\",\n",
    "  primary_key=\"id\",\n",
    "  embedding_source_column=\"chunk_text\",\n",
    "  embedding_model_endpoint_name=\"databricks-gte-large-en\",\n",
    ")"
   ]
  },
  {
   "cell_type": "code",
   "execution_count": 0,
   "metadata": {
    "application/vnd.databricks.v1+cell": {
     "cellMetadata": {
      "byteLimit": 2048000,
      "rowLimit": 10000
     },
     "inputWidgets": {},
     "nuid": "14b213f0-1cb7-4ea4-8c95-2cd91880f49f",
     "showTitle": false,
     "tableResultSettingsMap": {},
     "title": ""
    }
   },
   "outputs": [],
   "source": [
    "index.sync()"
   ]
  },
  {
   "cell_type": "markdown",
   "metadata": {
    "application/vnd.databricks.v1+cell": {
     "cellMetadata": {},
     "inputWidgets": {},
     "nuid": "bbe4418a-e206-4ae4-a198-558761a70ff0",
     "showTitle": false,
     "tableResultSettingsMap": {},
     "title": ""
    }
   },
   "source": [
    "### Query the index"
   ]
  },
  {
   "cell_type": "code",
   "execution_count": 0,
   "metadata": {
    "application/vnd.databricks.v1+cell": {
     "cellMetadata": {
      "byteLimit": 2048000,
      "rowLimit": 10000
     },
     "inputWidgets": {},
     "nuid": "63d05701-05f5-4289-890c-019943da9f8c",
     "showTitle": false,
     "tableResultSettingsMap": {},
     "title": ""
    }
   },
   "outputs": [],
   "source": [
    "%pip install databricks-sdk[openai]\n",
    "dbutils.library.restartPython()"
   ]
  },
  {
   "cell_type": "code",
   "execution_count": 0,
   "metadata": {
    "application/vnd.databricks.v1+cell": {
     "cellMetadata": {
      "byteLimit": 2048000,
      "rowLimit": 10000
     },
     "inputWidgets": {},
     "nuid": "ec0e4dd9-1d1b-4699-a4d4-e75c1d0c66fc",
     "showTitle": false,
     "tableResultSettingsMap": {},
     "title": ""
    }
   },
   "outputs": [],
   "source": [
    "from databricks.vector_search.client import VectorSearchClient\n",
    "from databricks.sdk import WorkspaceClient"
   ]
  },
  {
   "cell_type": "markdown",
   "metadata": {
    "application/vnd.databricks.v1+cell": {
     "cellMetadata": {},
     "inputWidgets": {},
     "nuid": "9bde6189-954f-4612-9051-1c83a739fd1c",
     "showTitle": false,
     "tableResultSettingsMap": {},
     "title": ""
    }
   },
   "source": [
    "## Query the index and Anomaly root cause analysis"
   ]
  },
  {
   "cell_type": "code",
   "execution_count": 0,
   "metadata": {
    "application/vnd.databricks.v1+cell": {
     "cellMetadata": {
      "byteLimit": 2048000,
      "rowLimit": 10000
     },
     "inputWidgets": {},
     "nuid": "3678cd1c-48a1-46ea-a6a3-13ae9146da19",
     "showTitle": false,
     "tableResultSettingsMap": {},
     "title": ""
    }
   },
   "outputs": [],
   "source": [
    "index_name = \"workspace.genai_demo.maintenance_docs_index\"\n",
    "\n",
    "ws = WorkspaceClient()\n",
    "client = VectorSearchClient()\n",
    "index = client.get_index(index_name=index_name)\n",
    "\n",
    "# Example anomaly description\n",
    "anomaly_text = (\n",
    "  \"Machine 3 shows temperature 62°C, vibration 3.9 mm/s, pressure 27 PSI\"\n",
    ")\n",
    "\n",
    "# Retrieve relevant chunks\n",
    "res = index.similarity_search(query_text=anomaly_text, columns=[\"chunk_text\"], num_results=1)\n",
    "context = \"\\n\\n\".join([r[0] for r in res[\"result\"][\"data_array\"]])\n",
    "\n",
    "# Call LLaMA-4 Maverick via AI Functions\n",
    "response = ws.serving_endpoints.get_open_ai_client().chat.completions.create(\n",
    "    model=\"databricks-llama-4-maverick\",\n",
    "    messages=[\n",
    "        {\"role\": \"system\", \"content\": \"You are an expert maintenance engineer.\"},\n",
    "        {\"role\": \"user\", \"content\":\n",
    "            f\"Anomaly:\\n{anomaly_text}\\n\\nContext from manuals:\\n{context}\\n\\n\"\n",
    "            \"What is the likely root cause and recommended action?\"}\n",
    "    ]\n",
    ")\n",
    "\n",
    "print(response.choices[0].message.content)"
   ]
  },
  {
   "cell_type": "markdown",
   "metadata": {
    "application/vnd.databricks.v1+cell": {
     "cellMetadata": {},
     "inputWidgets": {},
     "nuid": "077f19c4-c020-4b9c-b01a-ad4dbc306054",
     "showTitle": false,
     "tableResultSettingsMap": {},
     "title": ""
    }
   },
   "source": [
    "## Analyse the root cause of the anomalies in the test dataset"
   ]
  },
  {
   "cell_type": "code",
   "execution_count": 0,
   "metadata": {
    "application/vnd.databricks.v1+cell": {
     "cellMetadata": {
      "byteLimit": 2048000,
      "rowLimit": 10000
     },
     "inputWidgets": {},
     "nuid": "1ee133ba-24fa-4d22-98ee-f9b1ee220b24",
     "showTitle": false,
     "tableResultSettingsMap": {},
     "title": ""
    }
   },
   "outputs": [],
   "source": [
    "from databricks.vector_search.client import VectorSearchClient\n",
    "from databricks.sdk import WorkspaceClient\n",
    "\n",
    "index_name = \"workspace.genai_demo.maintenance_docs_index\"\n",
    "ws = WorkspaceClient()\n",
    "client = VectorSearchClient()\n",
    "index = client.get_index(index_name=index_name)\n",
    "\n",
    "def anomlay_root_cause_analysis(sensor_data):\n",
    "    anomaly_flag = sensor_data['anomaly']\n",
    "    if anomaly_flag == 1:\n",
    "        return ''\n",
    "    \n",
    "    machine_id = sensor_data['machine_id']\n",
    "    temperature = sensor_data['temperature']\n",
    "    vibration = sensor_data['vibration']\n",
    "    pressure = sensor_data['pressure']\n",
    "    anomaly_text = (f\"Machine {machine_id} shows temperature {temperature}°C, vibration {vibration} mm/s, pressure {pressure} PSI\")\n",
    "\n",
    "    # Retrieve relevant chunks\n",
    "    res = index.similarity_search(query_text=anomaly_text, columns=[\"chunk_text\"], num_results=1)\n",
    "    context = \"\\n\\n\".join([r[0] for r in res[\"result\"][\"data_array\"]])\n",
    "\n",
    "    response = ws.serving_endpoints.get_open_ai_client().chat.completions.create(\n",
    "        model=\"databricks-llama-4-maverick\",\n",
    "        messages=[\n",
    "            {\"role\": \"system\", \"content\": \"You are an expert maintenance engineer.\"},\n",
    "            {\"role\": \"user\", \"content\":\n",
    "                f\"Anomaly:\\n{anomaly_text}\\n\\nContext from manuals:\\n{context}\\n\\n\"\n",
    "                \"What is the likely root cause and recommended action?\"}\n",
    "        ]\n",
    "    )\n",
    "    return response.choices[0].message.content\n"
   ]
  },
  {
   "cell_type": "markdown",
   "metadata": {
    "application/vnd.databricks.v1+cell": {
     "cellMetadata": {},
     "inputWidgets": {},
     "nuid": "f6287fe3-e431-4a59-b073-332d0ff4fa67",
     "showTitle": false,
     "tableResultSettingsMap": {},
     "title": ""
    }
   },
   "source": [
    "### Generate suggestion for detected machine anomalies"
   ]
  },
  {
   "cell_type": "code",
   "execution_count": 0,
   "metadata": {
    "application/vnd.databricks.v1+cell": {
     "cellMetadata": {
      "byteLimit": 2048000,
      "rowLimit": 10000
     },
     "inputWidgets": {},
     "nuid": "bd1a5515-3e4e-4693-bec0-0daf70f1a626",
     "showTitle": false,
     "tableResultSettingsMap": {},
     "title": ""
    }
   },
   "outputs": [],
   "source": [
    "df_test = spark.table(\"sensor_data_test_scored\").toPandas()\n",
    "df_test['suggestion'] = df_test.apply(anomlay_root_cause_analysis, axis=1)"
   ]
  },
  {
   "cell_type": "code",
   "execution_count": 0,
   "metadata": {
    "application/vnd.databricks.v1+cell": {
     "cellMetadata": {
      "byteLimit": 2048000,
      "rowLimit": 10000
     },
     "inputWidgets": {},
     "nuid": "f99bd2ed-f81d-4a40-81f0-cc8ee5011bcc",
     "showTitle": false,
     "tableResultSettingsMap": {},
     "title": ""
    }
   },
   "outputs": [],
   "source": [
    "spark.createDataFrame(df_test).write.mode(\"overwrite\").format(\"delta\").saveAsTable(\"sensor_data_with_suggestions\")"
   ]
  },
  {
   "cell_type": "code",
   "execution_count": 0,
   "metadata": {
    "application/vnd.databricks.v1+cell": {
     "cellMetadata": {
      "byteLimit": 2048000,
      "rowLimit": 10000
     },
     "inputWidgets": {},
     "nuid": "8aba8c2e-6a4f-452b-ba85-ac29ca268a91",
     "showTitle": false,
     "tableResultSettingsMap": {},
     "title": ""
    }
   },
   "outputs": [],
   "source": [
    "display(df_test.head(100))"
   ]
  },
  {
   "cell_type": "code",
   "execution_count": 0,
   "metadata": {
    "application/vnd.databricks.v1+cell": {
     "cellMetadata": {},
     "inputWidgets": {},
     "nuid": "26a66ca0-effc-481a-b3e7-6fec409fb579",
     "showTitle": false,
     "tableResultSettingsMap": {},
     "title": ""
    }
   },
   "outputs": [],
   "source": []
  }
 ],
 "metadata": {
  "application/vnd.databricks.v1+notebook": {
   "computePreferences": null,
   "dashboards": [],
   "environmentMetadata": {
    "base_environment": "",
    "environment_version": "2"
   },
   "inputWidgetPreferences": null,
   "language": "python",
   "notebookMetadata": {
    "mostRecentlyExecutedCommandWithImplicitDF": {
     "commandId": 5735723611426898,
     "dataframes": [
      "_sqldf"
     ]
    },
    "pythonIndentUnit": 4
   },
   "notebookName": "03_root_cause_agent_with_rag",
   "widgets": {}
  },
  "language_info": {
   "name": "python"
  }
 },
 "nbformat": 4,
 "nbformat_minor": 0
}
